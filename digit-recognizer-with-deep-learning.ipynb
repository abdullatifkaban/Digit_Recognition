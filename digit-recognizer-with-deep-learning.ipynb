{
 "cells": [
  {
   "cell_type": "markdown",
   "id": "72ee1602",
   "metadata": {
    "papermill": {
     "duration": 0.013462,
     "end_time": "2024-05-09T17:40:24.421655",
     "exception": false,
     "start_time": "2024-05-09T17:40:24.408193",
     "status": "completed"
    },
    "tags": []
   },
   "source": [
    "# Digit Recognizer\n",
    "Bu projede el yazısı rakamları tanıyan bir model geliştiriyoruz. Model verileri Kaggle yarışmalarından biri olan Digit Recognizer'den elde edilmiş ve kod yazımı için Kaggle ortamı kullanılmıştır. "
   ]
  },
  {
   "cell_type": "code",
   "execution_count": 1,
   "id": "0dbe7f9a",
   "metadata": {
    "_cell_guid": "b1076dfc-b9ad-4769-8c92-a6c4dae69d19",
    "_uuid": "8f2839f25d086af736a60e9eeb907d3b93b6e0e5",
    "execution": {
     "iopub.execute_input": "2024-05-09T17:40:24.448965Z",
     "iopub.status.busy": "2024-05-09T17:40:24.448590Z",
     "iopub.status.idle": "2024-05-09T17:40:25.190187Z",
     "shell.execute_reply": "2024-05-09T17:40:25.189030Z"
    },
    "papermill": {
     "duration": 0.757762,
     "end_time": "2024-05-09T17:40:25.192324",
     "exception": false,
     "start_time": "2024-05-09T17:40:24.434562",
     "status": "completed"
    },
    "tags": []
   },
   "outputs": [
    {
     "name": "stdout",
     "output_type": "stream",
     "text": [
      "/kaggle/input/digit-recognizer/sample_submission.csv\n",
      "/kaggle/input/digit-recognizer/train.csv\n",
      "/kaggle/input/digit-recognizer/test.csv\n"
     ]
    }
   ],
   "source": [
    "# This Python 3 environment comes with many helpful analytics libraries installed\n",
    "# It is defined by the kaggle/python Docker image: https://github.com/kaggle/docker-python\n",
    "# For example, here's several helpful packages to load\n",
    "\n",
    "import numpy as np # linear algebra\n",
    "import pandas as pd # data processing, CSV file I/O (e.g. pd.read_csv)\n",
    "\n",
    "# Input data files are available in the read-only \"../input/\" directory\n",
    "# For example, running this (by clicking run or pressing Shift+Enter) will list all files under the input directory\n",
    "\n",
    "import os\n",
    "for dirname, _, filenames in os.walk('/kaggle/input'):\n",
    "    for filename in filenames:\n",
    "        print(os.path.join(dirname, filename))\n",
    "\n",
    "# You can write up to 20GB to the current directory (/kaggle/working/) that gets preserved as output when you create a version using \"Save & Run All\" \n",
    "# You can also write temporary files to /kaggle/temp/, but they won't be saved outside of the current session"
   ]
  },
  {
   "cell_type": "code",
   "execution_count": 2,
   "id": "389a0488",
   "metadata": {
    "execution": {
     "iopub.execute_input": "2024-05-09T17:40:25.219937Z",
     "iopub.status.busy": "2024-05-09T17:40:25.219473Z",
     "iopub.status.idle": "2024-05-09T17:40:26.285933Z",
     "shell.execute_reply": "2024-05-09T17:40:26.284977Z"
    },
    "papermill": {
     "duration": 1.083662,
     "end_time": "2024-05-09T17:40:26.289248",
     "exception": false,
     "start_time": "2024-05-09T17:40:25.205586",
     "status": "completed"
    },
    "tags": []
   },
   "outputs": [],
   "source": [
    "import seaborn as sns\n",
    "import matplotlib.pyplot as plt"
   ]
  },
  {
   "cell_type": "code",
   "execution_count": 3,
   "id": "51969f65",
   "metadata": {
    "execution": {
     "iopub.execute_input": "2024-05-09T17:40:26.318026Z",
     "iopub.status.busy": "2024-05-09T17:40:26.317684Z",
     "iopub.status.idle": "2024-05-09T17:40:29.926768Z",
     "shell.execute_reply": "2024-05-09T17:40:29.925750Z"
    },
    "papermill": {
     "duration": 3.626407,
     "end_time": "2024-05-09T17:40:29.928948",
     "exception": false,
     "start_time": "2024-05-09T17:40:26.302541",
     "status": "completed"
    },
    "tags": []
   },
   "outputs": [
    {
     "data": {
      "text/html": [
       "<div>\n",
       "<style scoped>\n",
       "    .dataframe tbody tr th:only-of-type {\n",
       "        vertical-align: middle;\n",
       "    }\n",
       "\n",
       "    .dataframe tbody tr th {\n",
       "        vertical-align: top;\n",
       "    }\n",
       "\n",
       "    .dataframe thead th {\n",
       "        text-align: right;\n",
       "    }\n",
       "</style>\n",
       "<table border=\"1\" class=\"dataframe\">\n",
       "  <thead>\n",
       "    <tr style=\"text-align: right;\">\n",
       "      <th></th>\n",
       "      <th>label</th>\n",
       "      <th>pixel0</th>\n",
       "      <th>pixel1</th>\n",
       "      <th>pixel2</th>\n",
       "      <th>pixel3</th>\n",
       "      <th>pixel4</th>\n",
       "      <th>pixel5</th>\n",
       "      <th>pixel6</th>\n",
       "      <th>pixel7</th>\n",
       "      <th>pixel8</th>\n",
       "      <th>...</th>\n",
       "      <th>pixel774</th>\n",
       "      <th>pixel775</th>\n",
       "      <th>pixel776</th>\n",
       "      <th>pixel777</th>\n",
       "      <th>pixel778</th>\n",
       "      <th>pixel779</th>\n",
       "      <th>pixel780</th>\n",
       "      <th>pixel781</th>\n",
       "      <th>pixel782</th>\n",
       "      <th>pixel783</th>\n",
       "    </tr>\n",
       "  </thead>\n",
       "  <tbody>\n",
       "    <tr>\n",
       "      <th>0</th>\n",
       "      <td>1</td>\n",
       "      <td>0</td>\n",
       "      <td>0</td>\n",
       "      <td>0</td>\n",
       "      <td>0</td>\n",
       "      <td>0</td>\n",
       "      <td>0</td>\n",
       "      <td>0</td>\n",
       "      <td>0</td>\n",
       "      <td>0</td>\n",
       "      <td>...</td>\n",
       "      <td>0</td>\n",
       "      <td>0</td>\n",
       "      <td>0</td>\n",
       "      <td>0</td>\n",
       "      <td>0</td>\n",
       "      <td>0</td>\n",
       "      <td>0</td>\n",
       "      <td>0</td>\n",
       "      <td>0</td>\n",
       "      <td>0</td>\n",
       "    </tr>\n",
       "    <tr>\n",
       "      <th>1</th>\n",
       "      <td>0</td>\n",
       "      <td>0</td>\n",
       "      <td>0</td>\n",
       "      <td>0</td>\n",
       "      <td>0</td>\n",
       "      <td>0</td>\n",
       "      <td>0</td>\n",
       "      <td>0</td>\n",
       "      <td>0</td>\n",
       "      <td>0</td>\n",
       "      <td>...</td>\n",
       "      <td>0</td>\n",
       "      <td>0</td>\n",
       "      <td>0</td>\n",
       "      <td>0</td>\n",
       "      <td>0</td>\n",
       "      <td>0</td>\n",
       "      <td>0</td>\n",
       "      <td>0</td>\n",
       "      <td>0</td>\n",
       "      <td>0</td>\n",
       "    </tr>\n",
       "    <tr>\n",
       "      <th>2</th>\n",
       "      <td>1</td>\n",
       "      <td>0</td>\n",
       "      <td>0</td>\n",
       "      <td>0</td>\n",
       "      <td>0</td>\n",
       "      <td>0</td>\n",
       "      <td>0</td>\n",
       "      <td>0</td>\n",
       "      <td>0</td>\n",
       "      <td>0</td>\n",
       "      <td>...</td>\n",
       "      <td>0</td>\n",
       "      <td>0</td>\n",
       "      <td>0</td>\n",
       "      <td>0</td>\n",
       "      <td>0</td>\n",
       "      <td>0</td>\n",
       "      <td>0</td>\n",
       "      <td>0</td>\n",
       "      <td>0</td>\n",
       "      <td>0</td>\n",
       "    </tr>\n",
       "    <tr>\n",
       "      <th>3</th>\n",
       "      <td>4</td>\n",
       "      <td>0</td>\n",
       "      <td>0</td>\n",
       "      <td>0</td>\n",
       "      <td>0</td>\n",
       "      <td>0</td>\n",
       "      <td>0</td>\n",
       "      <td>0</td>\n",
       "      <td>0</td>\n",
       "      <td>0</td>\n",
       "      <td>...</td>\n",
       "      <td>0</td>\n",
       "      <td>0</td>\n",
       "      <td>0</td>\n",
       "      <td>0</td>\n",
       "      <td>0</td>\n",
       "      <td>0</td>\n",
       "      <td>0</td>\n",
       "      <td>0</td>\n",
       "      <td>0</td>\n",
       "      <td>0</td>\n",
       "    </tr>\n",
       "    <tr>\n",
       "      <th>4</th>\n",
       "      <td>0</td>\n",
       "      <td>0</td>\n",
       "      <td>0</td>\n",
       "      <td>0</td>\n",
       "      <td>0</td>\n",
       "      <td>0</td>\n",
       "      <td>0</td>\n",
       "      <td>0</td>\n",
       "      <td>0</td>\n",
       "      <td>0</td>\n",
       "      <td>...</td>\n",
       "      <td>0</td>\n",
       "      <td>0</td>\n",
       "      <td>0</td>\n",
       "      <td>0</td>\n",
       "      <td>0</td>\n",
       "      <td>0</td>\n",
       "      <td>0</td>\n",
       "      <td>0</td>\n",
       "      <td>0</td>\n",
       "      <td>0</td>\n",
       "    </tr>\n",
       "  </tbody>\n",
       "</table>\n",
       "<p>5 rows × 785 columns</p>\n",
       "</div>"
      ],
      "text/plain": [
       "   label  pixel0  pixel1  pixel2  pixel3  pixel4  pixel5  pixel6  pixel7  \\\n",
       "0      1       0       0       0       0       0       0       0       0   \n",
       "1      0       0       0       0       0       0       0       0       0   \n",
       "2      1       0       0       0       0       0       0       0       0   \n",
       "3      4       0       0       0       0       0       0       0       0   \n",
       "4      0       0       0       0       0       0       0       0       0   \n",
       "\n",
       "   pixel8  ...  pixel774  pixel775  pixel776  pixel777  pixel778  pixel779  \\\n",
       "0       0  ...         0         0         0         0         0         0   \n",
       "1       0  ...         0         0         0         0         0         0   \n",
       "2       0  ...         0         0         0         0         0         0   \n",
       "3       0  ...         0         0         0         0         0         0   \n",
       "4       0  ...         0         0         0         0         0         0   \n",
       "\n",
       "   pixel780  pixel781  pixel782  pixel783  \n",
       "0         0         0         0         0  \n",
       "1         0         0         0         0  \n",
       "2         0         0         0         0  \n",
       "3         0         0         0         0  \n",
       "4         0         0         0         0  \n",
       "\n",
       "[5 rows x 785 columns]"
      ]
     },
     "execution_count": 3,
     "metadata": {},
     "output_type": "execute_result"
    }
   ],
   "source": [
    "df=pd.read_csv(\"/kaggle/input/digit-recognizer/train.csv\")\n",
    "df.head()"
   ]
  },
  {
   "cell_type": "code",
   "execution_count": 4,
   "id": "a31dc100",
   "metadata": {
    "execution": {
     "iopub.execute_input": "2024-05-09T17:40:29.958965Z",
     "iopub.status.busy": "2024-05-09T17:40:29.958612Z",
     "iopub.status.idle": "2024-05-09T17:40:29.973564Z",
     "shell.execute_reply": "2024-05-09T17:40:29.972729Z"
    },
    "papermill": {
     "duration": 0.032285,
     "end_time": "2024-05-09T17:40:29.975488",
     "exception": false,
     "start_time": "2024-05-09T17:40:29.943203",
     "status": "completed"
    },
    "tags": []
   },
   "outputs": [
    {
     "data": {
      "text/plain": [
       "label\n",
       "1    4684\n",
       "7    4401\n",
       "3    4351\n",
       "9    4188\n",
       "2    4177\n",
       "6    4137\n",
       "0    4132\n",
       "4    4072\n",
       "8    4063\n",
       "5    3795\n",
       "Name: count, dtype: int64"
      ]
     },
     "execution_count": 4,
     "metadata": {},
     "output_type": "execute_result"
    }
   ],
   "source": [
    "df[\"label\"].value_counts()"
   ]
  },
  {
   "cell_type": "code",
   "execution_count": 5,
   "id": "83ccc685",
   "metadata": {
    "execution": {
     "iopub.execute_input": "2024-05-09T17:40:30.004261Z",
     "iopub.status.busy": "2024-05-09T17:40:30.003941Z",
     "iopub.status.idle": "2024-05-09T17:40:30.883087Z",
     "shell.execute_reply": "2024-05-09T17:40:30.882169Z"
    },
    "papermill": {
     "duration": 0.895705,
     "end_time": "2024-05-09T17:40:30.885114",
     "exception": false,
     "start_time": "2024-05-09T17:40:29.989409",
     "status": "completed"
    },
    "tags": []
   },
   "outputs": [
    {
     "data": {
      "image/png": "[encoded data removed]",
      "text/plain": [
       "<Figure size 1000x1000 with 20 Axes>"
      ]
     },
     "metadata": {},
     "output_type": "display_data"
    }
   ],
   "source": [
    "selected_images = df.sample(20)\n",
    "selected_images = selected_images.reset_index(drop=True)\n",
    "\n",
    "fig, axes = plt.subplots(5, 4, figsize=(10, 10))\n",
    "\n",
    "for i, ax in enumerate(axes.flat):\n",
    "    ax.imshow(selected_images.iloc[i, 1:].values.reshape(28, 28), cmap='gray')\n",
    "    ax.axis(\"off\")\n",
    "\n",
    "plt.tight_layout()\n",
    "plt.show()"
   ]
  },
  {
   "cell_type": "markdown",
   "id": "1bba7f24",
   "metadata": {
    "papermill": {
     "duration": 0.014171,
     "end_time": "2024-05-09T17:40:30.913511",
     "exception": false,
     "start_time": "2024-05-09T17:40:30.899340",
     "status": "completed"
    },
    "tags": []
   },
   "source": [
    "## Modelleme"
   ]
  },
  {
   "cell_type": "code",
   "execution_count": 6,
   "id": "f5f17d45",
   "metadata": {
    "execution": {
     "iopub.execute_input": "2024-05-09T17:40:30.942902Z",
     "iopub.status.busy": "2024-05-09T17:40:30.942550Z",
     "iopub.status.idle": "2024-05-09T17:40:31.158510Z",
     "shell.execute_reply": "2024-05-09T17:40:31.157753Z"
    },
    "papermill": {
     "duration": 0.23338,
     "end_time": "2024-05-09T17:40:31.160878",
     "exception": false,
     "start_time": "2024-05-09T17:40:30.927498",
     "status": "completed"
    },
    "tags": []
   },
   "outputs": [],
   "source": [
    "from sklearn.model_selection import train_test_split"
   ]
  },
  {
   "cell_type": "code",
   "execution_count": 7,
   "id": "a7d895a6",
   "metadata": {
    "execution": {
     "iopub.execute_input": "2024-05-09T17:40:31.191257Z",
     "iopub.status.busy": "2024-05-09T17:40:31.190478Z",
     "iopub.status.idle": "2024-05-09T17:40:31.278180Z",
     "shell.execute_reply": "2024-05-09T17:40:31.277232Z"
    },
    "papermill": {
     "duration": 0.105067,
     "end_time": "2024-05-09T17:40:31.280426",
     "exception": false,
     "start_time": "2024-05-09T17:40:31.175359",
     "status": "completed"
    },
    "tags": []
   },
   "outputs": [
    {
     "data": {
      "text/plain": [
       "((42000, 784), (42000, 1))"
      ]
     },
     "execution_count": 7,
     "metadata": {},
     "output_type": "execute_result"
    }
   ],
   "source": [
    "x=df.drop(\"label\", axis=1)\n",
    "y=df[[\"label\"]]\n",
    "x.shape, y.shape"
   ]
  },
  {
   "cell_type": "code",
   "execution_count": 8,
   "id": "920c2b88",
   "metadata": {
    "execution": {
     "iopub.execute_input": "2024-05-09T17:40:31.311991Z",
     "iopub.status.busy": "2024-05-09T17:40:31.311382Z",
     "iopub.status.idle": "2024-05-09T17:40:42.647593Z",
     "shell.execute_reply": "2024-05-09T17:40:42.646749Z"
    },
    "papermill": {
     "duration": 11.353861,
     "end_time": "2024-05-09T17:40:42.649893",
     "exception": false,
     "start_time": "2024-05-09T17:40:31.296032",
     "status": "completed"
    },
    "tags": []
   },
   "outputs": [
    {
     "name": "stderr",
     "output_type": "stream",
     "text": [
      "2024-05-09 17:40:33.041638: E external/local_xla/xla/stream_executor/cuda/cuda_dnn.cc:9261] Unable to register cuDNN factory: Attempting to register factory for plugin cuDNN when one has already been registered\n",
      "2024-05-09 17:40:33.041756: E external/local_xla/xla/stream_executor/cuda/cuda_fft.cc:607] Unable to register cuFFT factory: Attempting to register factory for plugin cuFFT when one has already been registered\n",
      "2024-05-09 17:40:33.168223: E external/local_xla/xla/stream_executor/cuda/cuda_blas.cc:1515] Unable to register cuBLAS factory: Attempting to register factory for plugin cuBLAS when one has already been registered\n"
     ]
    }
   ],
   "source": [
    "from keras.utils import to_categorical\n",
    "\n",
    "x = x / 255.0\n",
    "y = to_categorical(y)"
   ]
  },
  {
   "cell_type": "code",
   "execution_count": 9,
   "id": "3f89e220",
   "metadata": {
    "execution": {
     "iopub.execute_input": "2024-05-09T17:40:42.680702Z",
     "iopub.status.busy": "2024-05-09T17:40:42.679830Z",
     "iopub.status.idle": "2024-05-09T17:40:42.880139Z",
     "shell.execute_reply": "2024-05-09T17:40:42.879217Z"
    },
    "papermill": {
     "duration": 0.218038,
     "end_time": "2024-05-09T17:40:42.882466",
     "exception": false,
     "start_time": "2024-05-09T17:40:42.664428",
     "status": "completed"
    },
    "tags": []
   },
   "outputs": [
    {
     "data": {
      "text/plain": [
       "((33600, 784), (33600, 10))"
      ]
     },
     "execution_count": 9,
     "metadata": {},
     "output_type": "execute_result"
    }
   ],
   "source": [
    "x_train,x_test,y_train,y_test=train_test_split(x,y,test_size=.2,random_state=42)\n",
    "x_train.shape, y_train.shape"
   ]
  },
  {
   "cell_type": "code",
   "execution_count": 10,
   "id": "464fe13e",
   "metadata": {
    "execution": {
     "iopub.execute_input": "2024-05-09T17:40:42.913071Z",
     "iopub.status.busy": "2024-05-09T17:40:42.912367Z",
     "iopub.status.idle": "2024-05-09T17:40:42.917480Z",
     "shell.execute_reply": "2024-05-09T17:40:42.916559Z"
    },
    "papermill": {
     "duration": 0.022366,
     "end_time": "2024-05-09T17:40:42.919344",
     "exception": false,
     "start_time": "2024-05-09T17:40:42.896978",
     "status": "completed"
    },
    "tags": []
   },
   "outputs": [],
   "source": [
    "from keras.models import Sequential\n",
    "from keras.layers import Conv2D, Dense, Flatten, Input, MaxPooling2D, Dropout,BatchNormalization, Reshape\n",
    "from sklearn.metrics import f1_score, confusion_matrix, classification_report"
   ]
  },
  {
   "cell_type": "code",
   "execution_count": 11,
   "id": "dc377ea9",
   "metadata": {
    "execution": {
     "iopub.execute_input": "2024-05-09T17:40:42.949889Z",
     "iopub.status.busy": "2024-05-09T17:40:42.949223Z",
     "iopub.status.idle": "2024-05-09T17:40:43.678974Z",
     "shell.execute_reply": "2024-05-09T17:40:43.678203Z"
    },
    "papermill": {
     "duration": 0.747202,
     "end_time": "2024-05-09T17:40:43.681194",
     "exception": false,
     "start_time": "2024-05-09T17:40:42.933992",
     "status": "completed"
    },
    "tags": []
   },
   "outputs": [
    {
     "name": "stderr",
     "output_type": "stream",
     "text": [
      "/opt/conda/lib/python3.10/site-packages/keras/src/layers/core/dense.py:86: UserWarning: Do not pass an `input_shape`/`input_dim` argument to a layer. When using Sequential models, prefer using an `Input(shape)` object as the first layer in the model instead.\n",
      "  super().__init__(activity_regularizer=activity_regularizer, **kwargs)\n"
     ]
    }
   ],
   "source": [
    "model = Sequential()\n",
    "model.add(Dense(512, activation='relu', input_shape=(784,)))\n",
    "model.add(Dense(128, activation='relu'))\n",
    "model.add(Dense(32, activation='relu'))\n",
    "model.add(Dense(10, activation='softmax'))\n",
    "\n",
    "model.compile(optimizer='adam', loss='categorical_crossentropy', metrics=['accuracy'])"
   ]
  },
  {
   "cell_type": "code",
   "execution_count": 12,
   "id": "b52db8bc",
   "metadata": {
    "execution": {
     "iopub.execute_input": "2024-05-09T17:40:43.711887Z",
     "iopub.status.busy": "2024-05-09T17:40:43.711052Z",
     "iopub.status.idle": "2024-05-09T17:41:44.016900Z",
     "shell.execute_reply": "2024-05-09T17:41:44.015999Z"
    },
    "papermill": {
     "duration": 60.405674,
     "end_time": "2024-05-09T17:41:44.101374",
     "exception": false,
     "start_time": "2024-05-09T17:40:43.695700",
     "status": "completed"
    },
    "tags": []
   },
   "outputs": [
    {
     "name": "stdout",
     "output_type": "stream",
     "text": [
      "Epoch 1/25\n",
      "\u001b[1m  85/1050\u001b[0m \u001b[32m━\u001b[0m\u001b[37m━━━━━━━━━━━━━━━━━━━\u001b[0m \u001b[1m1s\u001b[0m 2ms/step - accuracy: 0.5906 - loss: 1.3454"
     ]
    },
    {
     "name": "stderr",
     "output_type": "stream",
     "text": [
      "WARNING: All log messages before absl::InitializeLog() is called are written to STDERR\n",
      "I0000 00:00:1715276446.818624      68 device_compiler.h:186] Compiled cluster using XLA!  This line is logged at most once for the lifetime of the process.\n"
     ]
    },
    {
     "name": "stdout",
     "output_type": "stream",
     "text": [
      "\u001b[1m1050/1050\u001b[0m \u001b[32m━━━━━━━━━━━━━━━━━━━━\u001b[0m\u001b[37m\u001b[0m \u001b[1m6s\u001b[0m 3ms/step - accuracy: 0.8598 - loss: 0.4709 - val_accuracy: 0.9550 - val_loss: 0.1433\n",
      "Epoch 2/25\n",
      "\u001b[1m1050/1050\u001b[0m \u001b[32m━━━━━━━━━━━━━━━━━━━━\u001b[0m\u001b[37m\u001b[0m \u001b[1m2s\u001b[0m 2ms/step - accuracy: 0.9668 - loss: 0.1038 - val_accuracy: 0.9624 - val_loss: 0.1218\n",
      "Epoch 3/25\n",
      "\u001b[1m1050/1050\u001b[0m \u001b[32m━━━━━━━━━━━━━━━━━━━━\u001b[0m\u001b[37m\u001b[0m \u001b[1m2s\u001b[0m 2ms/step - accuracy: 0.9782 - loss: 0.0673 - val_accuracy: 0.9693 - val_loss: 0.1082\n",
      "Epoch 4/25\n",
      "\u001b[1m1050/1050\u001b[0m \u001b[32m━━━━━━━━━━━━━━━━━━━━\u001b[0m\u001b[37m\u001b[0m \u001b[1m2s\u001b[0m 2ms/step - accuracy: 0.9853 - loss: 0.0480 - val_accuracy: 0.9689 - val_loss: 0.1119\n",
      "Epoch 5/25\n",
      "\u001b[1m1050/1050\u001b[0m \u001b[32m━━━━━━━━━━━━━━━━━━━━\u001b[0m\u001b[37m\u001b[0m \u001b[1m2s\u001b[0m 2ms/step - accuracy: 0.9884 - loss: 0.0367 - val_accuracy: 0.9740 - val_loss: 0.0928\n",
      "Epoch 6/25\n",
      "\u001b[1m1050/1050\u001b[0m \u001b[32m━━━━━━━━━━━━━━━━━━━━\u001b[0m\u001b[37m\u001b[0m \u001b[1m2s\u001b[0m 2ms/step - accuracy: 0.9899 - loss: 0.0305 - val_accuracy: 0.9756 - val_loss: 0.0945\n",
      "Epoch 7/25\n",
      "\u001b[1m1050/1050\u001b[0m \u001b[32m━━━━━━━━━━━━━━━━━━━━\u001b[0m\u001b[37m\u001b[0m \u001b[1m2s\u001b[0m 2ms/step - accuracy: 0.9919 - loss: 0.0248 - val_accuracy: 0.9718 - val_loss: 0.1120\n",
      "Epoch 8/25\n",
      "\u001b[1m1050/1050\u001b[0m \u001b[32m━━━━━━━━━━━━━━━━━━━━\u001b[0m\u001b[37m\u001b[0m \u001b[1m2s\u001b[0m 2ms/step - accuracy: 0.9924 - loss: 0.0242 - val_accuracy: 0.9743 - val_loss: 0.1117\n",
      "Epoch 9/25\n",
      "\u001b[1m1050/1050\u001b[0m \u001b[32m━━━━━━━━━━━━━━━━━━━━\u001b[0m\u001b[37m\u001b[0m \u001b[1m3s\u001b[0m 2ms/step - accuracy: 0.9930 - loss: 0.0202 - val_accuracy: 0.9760 - val_loss: 0.1152\n",
      "Epoch 10/25\n",
      "\u001b[1m1050/1050\u001b[0m \u001b[32m━━━━━━━━━━━━━━━━━━━━\u001b[0m\u001b[37m\u001b[0m \u001b[1m2s\u001b[0m 2ms/step - accuracy: 0.9952 - loss: 0.0161 - val_accuracy: 0.9727 - val_loss: 0.1326\n",
      "Epoch 11/25\n",
      "\u001b[1m1050/1050\u001b[0m \u001b[32m━━━━━━━━━━━━━━━━━━━━\u001b[0m\u001b[37m\u001b[0m \u001b[1m2s\u001b[0m 2ms/step - accuracy: 0.9940 - loss: 0.0185 - val_accuracy: 0.9742 - val_loss: 0.1215\n",
      "Epoch 12/25\n",
      "\u001b[1m1050/1050\u001b[0m \u001b[32m━━━━━━━━━━━━━━━━━━━━\u001b[0m\u001b[37m\u001b[0m \u001b[1m2s\u001b[0m 2ms/step - accuracy: 0.9957 - loss: 0.0132 - val_accuracy: 0.9710 - val_loss: 0.1514\n",
      "Epoch 13/25\n",
      "\u001b[1m1050/1050\u001b[0m \u001b[32m━━━━━━━━━━━━━━━━━━━━\u001b[0m\u001b[37m\u001b[0m \u001b[1m2s\u001b[0m 2ms/step - accuracy: 0.9936 - loss: 0.0215 - val_accuracy: 0.9746 - val_loss: 0.1278\n",
      "Epoch 14/25\n",
      "\u001b[1m1050/1050\u001b[0m \u001b[32m━━━━━━━━━━━━━━━━━━━━\u001b[0m\u001b[37m\u001b[0m \u001b[1m2s\u001b[0m 2ms/step - accuracy: 0.9969 - loss: 0.0096 - val_accuracy: 0.9702 - val_loss: 0.1546\n",
      "Epoch 15/25\n",
      "\u001b[1m1050/1050\u001b[0m \u001b[32m━━━━━━━━━━━━━━━━━━━━\u001b[0m\u001b[37m\u001b[0m \u001b[1m2s\u001b[0m 2ms/step - accuracy: 0.9950 - loss: 0.0158 - val_accuracy: 0.9704 - val_loss: 0.1468\n",
      "Epoch 16/25\n",
      "\u001b[1m1050/1050\u001b[0m \u001b[32m━━━━━━━━━━━━━━━━━━━━\u001b[0m\u001b[37m\u001b[0m \u001b[1m2s\u001b[0m 2ms/step - accuracy: 0.9968 - loss: 0.0098 - val_accuracy: 0.9745 - val_loss: 0.1284\n",
      "Epoch 17/25\n",
      "\u001b[1m1050/1050\u001b[0m \u001b[32m━━━━━━━━━━━━━━━━━━━━\u001b[0m\u001b[37m\u001b[0m \u001b[1m2s\u001b[0m 2ms/step - accuracy: 0.9966 - loss: 0.0095 - val_accuracy: 0.9742 - val_loss: 0.1340\n",
      "Epoch 18/25\n",
      "\u001b[1m1050/1050\u001b[0m \u001b[32m━━━━━━━━━━━━━━━━━━━━\u001b[0m\u001b[37m\u001b[0m \u001b[1m2s\u001b[0m 2ms/step - accuracy: 0.9954 - loss: 0.0142 - val_accuracy: 0.9767 - val_loss: 0.1357\n",
      "Epoch 19/25\n",
      "\u001b[1m1050/1050\u001b[0m \u001b[32m━━━━━━━━━━━━━━━━━━━━\u001b[0m\u001b[37m\u001b[0m \u001b[1m2s\u001b[0m 2ms/step - accuracy: 0.9966 - loss: 0.0111 - val_accuracy: 0.9732 - val_loss: 0.1541\n",
      "Epoch 20/25\n",
      "\u001b[1m1050/1050\u001b[0m \u001b[32m━━━━━━━━━━━━━━━━━━━━\u001b[0m\u001b[37m\u001b[0m \u001b[1m2s\u001b[0m 2ms/step - accuracy: 0.9979 - loss: 0.0066 - val_accuracy: 0.9743 - val_loss: 0.1522\n",
      "Epoch 21/25\n",
      "\u001b[1m1050/1050\u001b[0m \u001b[32m━━━━━━━━━━━━━━━━━━━━\u001b[0m\u001b[37m\u001b[0m \u001b[1m2s\u001b[0m 2ms/step - accuracy: 0.9960 - loss: 0.0148 - val_accuracy: 0.9769 - val_loss: 0.1454\n",
      "Epoch 22/25\n",
      "\u001b[1m1050/1050\u001b[0m \u001b[32m━━━━━━━━━━━━━━━━━━━━\u001b[0m\u001b[37m\u001b[0m \u001b[1m2s\u001b[0m 2ms/step - accuracy: 0.9992 - loss: 0.0038 - val_accuracy: 0.9746 - val_loss: 0.1839\n",
      "Epoch 23/25\n",
      "\u001b[1m1050/1050\u001b[0m \u001b[32m━━━━━━━━━━━━━━━━━━━━\u001b[0m\u001b[37m\u001b[0m \u001b[1m3s\u001b[0m 2ms/step - accuracy: 0.9967 - loss: 0.0099 - val_accuracy: 0.9770 - val_loss: 0.1399\n",
      "Epoch 24/25\n",
      "\u001b[1m1050/1050\u001b[0m \u001b[32m━━━━━━━━━━━━━━━━━━━━\u001b[0m\u001b[37m\u001b[0m \u001b[1m2s\u001b[0m 2ms/step - accuracy: 0.9986 - loss: 0.0050 - val_accuracy: 0.9767 - val_loss: 0.1502\n",
      "Epoch 25/25\n",
      "\u001b[1m1050/1050\u001b[0m \u001b[32m━━━━━━━━━━━━━━━━━━━━\u001b[0m\u001b[37m\u001b[0m \u001b[1m2s\u001b[0m 2ms/step - accuracy: 0.9977 - loss: 0.0079 - val_accuracy: 0.9789 - val_loss: 0.1501\n"
     ]
    }
   ],
   "source": [
    "history = model.fit(x_train, y_train, validation_data=(x_test, y_test), batch_size=32, epochs=25, verbose=1)"
   ]
  },
  {
   "cell_type": "code",
   "execution_count": 13,
   "id": "d0573457",
   "metadata": {
    "execution": {
     "iopub.execute_input": "2024-05-09T17:41:44.339298Z",
     "iopub.status.busy": "2024-05-09T17:41:44.338402Z",
     "iopub.status.idle": "2024-05-09T17:41:44.838500Z",
     "shell.execute_reply": "2024-05-09T17:41:44.837512Z"
    },
    "papermill": {
     "duration": 0.594093,
     "end_time": "2024-05-09T17:41:44.840527",
     "exception": false,
     "start_time": "2024-05-09T17:41:44.246434",
     "status": "completed"
    },
    "tags": []
   },
   "outputs": [
    {
     "name": "stdout",
     "output_type": "stream",
     "text": [
      "\u001b[1m263/263\u001b[0m \u001b[32m━━━━━━━━━━━━━━━━━━━━\u001b[0m\u001b[37m\u001b[0m \u001b[1m0s\u001b[0m 1ms/step - accuracy: 0.9791 - loss: 0.1594\n"
     ]
    },
    {
     "data": {
      "text/plain": [
       "(0.15005378425121307, 0.9789285659790039)"
      ]
     },
     "execution_count": 13,
     "metadata": {},
     "output_type": "execute_result"
    }
   ],
   "source": [
    "loss, accuracy = model.evaluate(x_test, y_test)\n",
    "loss, accuracy"
   ]
  },
  {
   "cell_type": "code",
   "execution_count": 14,
   "id": "805ce318",
   "metadata": {
    "execution": {
     "iopub.execute_input": "2024-05-09T17:41:45.026659Z",
     "iopub.status.busy": "2024-05-09T17:41:45.025492Z",
     "iopub.status.idle": "2024-05-09T17:41:45.279145Z",
     "shell.execute_reply": "2024-05-09T17:41:45.278212Z"
    },
    "papermill": {
     "duration": 0.34876,
     "end_time": "2024-05-09T17:41:45.281331",
     "exception": false,
     "start_time": "2024-05-09T17:41:44.932571",
     "status": "completed"
    },
    "tags": []
   },
   "outputs": [
    {
     "data": {
      "text/plain": [
       "<matplotlib.legend.Legend at 0x7f5501537b80>"
      ]
     },
     "execution_count": 14,
     "metadata": {},
     "output_type": "execute_result"
    },
    {
     "data": {
      "image/png": "[encoded data removed]",
      "text/plain": [
       "<Figure size 640x480 with 1 Axes>"
      ]
     },
     "metadata": {},
     "output_type": "display_data"
    }
   ],
   "source": [
    "plt.plot(history.history[\"accuracy\"], label=\"Accuracy\")\n",
    "plt.plot(history.history[\"val_accuracy\"], label=\"Val Accuracy\")\n",
    "plt.legend()"
   ]
  },
  {
   "cell_type": "code",
   "execution_count": 15,
   "id": "cda2a3d5",
   "metadata": {
    "execution": {
     "iopub.execute_input": "2024-05-09T17:41:45.468514Z",
     "iopub.status.busy": "2024-05-09T17:41:45.468172Z",
     "iopub.status.idle": "2024-05-09T17:41:46.445158Z",
     "shell.execute_reply": "2024-05-09T17:41:46.444133Z"
    },
    "papermill": {
     "duration": 1.073606,
     "end_time": "2024-05-09T17:41:46.447652",
     "exception": false,
     "start_time": "2024-05-09T17:41:45.374046",
     "status": "completed"
    },
    "tags": []
   },
   "outputs": [
    {
     "name": "stdout",
     "output_type": "stream",
     "text": [
      "\u001b[1m263/263\u001b[0m \u001b[32m━━━━━━━━━━━━━━━━━━━━\u001b[0m\u001b[37m\u001b[0m \u001b[1m1s\u001b[0m 2ms/step\n"
     ]
    }
   ],
   "source": [
    "pred = model.predict(x_test)"
   ]
  },
  {
   "cell_type": "code",
   "execution_count": 16,
   "id": "9f71b67d",
   "metadata": {
    "execution": {
     "iopub.execute_input": "2024-05-09T17:41:46.635613Z",
     "iopub.status.busy": "2024-05-09T17:41:46.635258Z",
     "iopub.status.idle": "2024-05-09T17:41:46.643290Z",
     "shell.execute_reply": "2024-05-09T17:41:46.642402Z"
    },
    "papermill": {
     "duration": 0.103907,
     "end_time": "2024-05-09T17:41:46.645150",
     "exception": false,
     "start_time": "2024-05-09T17:41:46.541243",
     "status": "completed"
    },
    "tags": []
   },
   "outputs": [
    {
     "data": {
      "text/plain": [
       "(array([[0., 0., 0., ..., 0., 1., 0.],\n",
       "        [0., 1., 0., ..., 0., 0., 0.],\n",
       "        [0., 0., 0., ..., 0., 0., 1.],\n",
       "        ...,\n",
       "        [0., 0., 0., ..., 0., 0., 0.],\n",
       "        [1., 0., 0., ..., 0., 0., 0.],\n",
       "        [0., 0., 0., ..., 0., 0., 1.]], dtype=float32),\n",
       " array([[0., 0., 0., ..., 0., 1., 0.],\n",
       "        [0., 1., 0., ..., 0., 0., 0.],\n",
       "        [0., 0., 0., ..., 0., 0., 1.],\n",
       "        ...,\n",
       "        [0., 0., 0., ..., 0., 0., 0.],\n",
       "        [1., 0., 0., ..., 0., 0., 0.],\n",
       "        [0., 0., 0., ..., 0., 0., 1.]]))"
      ]
     },
     "execution_count": 16,
     "metadata": {},
     "output_type": "execute_result"
    }
   ],
   "source": [
    "np.round(pred), y_test"
   ]
  },
  {
   "cell_type": "code",
   "execution_count": 17,
   "id": "d90e5432",
   "metadata": {
    "execution": {
     "iopub.execute_input": "2024-05-09T17:41:46.834233Z",
     "iopub.status.busy": "2024-05-09T17:41:46.833881Z",
     "iopub.status.idle": "2024-05-09T17:41:46.845674Z",
     "shell.execute_reply": "2024-05-09T17:41:46.844684Z"
    },
    "papermill": {
     "duration": 0.108391,
     "end_time": "2024-05-09T17:41:46.847879",
     "exception": false,
     "start_time": "2024-05-09T17:41:46.739488",
     "status": "completed"
    },
    "tags": []
   },
   "outputs": [
    {
     "data": {
      "text/plain": [
       "array([[810,   0,   0,   0,   0,   0,   3,   2,   0,   1],\n",
       "       [  0, 904,   1,   0,   0,   0,   1,   1,   2,   0],\n",
       "       [  9,   6, 808,   1,   9,   0,   0,   4,   7,   2],\n",
       "       [  3,   1,   2, 906,   0,   8,   0,   3,   8,   6],\n",
       "       [  3,   0,   0,   0, 817,   0,   5,   2,   3,   9],\n",
       "       [  0,   0,   0,   8,   1, 682,   5,   0,   1,   5],\n",
       "       [  4,   1,   1,   0,   1,   1, 775,   0,   2,   0],\n",
       "       [  1,   2,   4,   0,   0,   0,   0, 878,   1,   7],\n",
       "       [  2,   4,   1,   2,   2,   2,   2,   1, 818,   1],\n",
       "       [  1,   2,   1,   4,   5,   1,   0,   1,   2, 821]])"
      ]
     },
     "execution_count": 17,
     "metadata": {},
     "output_type": "execute_result"
    }
   ],
   "source": [
    "confusion_matrix(np.argmax(y_test, axis=1), np.argmax(np.round(pred), axis=1))"
   ]
  },
  {
   "cell_type": "code",
   "execution_count": 18,
   "id": "c842958f",
   "metadata": {
    "execution": {
     "iopub.execute_input": "2024-05-09T17:41:47.037376Z",
     "iopub.status.busy": "2024-05-09T17:41:47.037046Z",
     "iopub.status.idle": "2024-05-09T17:41:47.616107Z",
     "shell.execute_reply": "2024-05-09T17:41:47.615142Z"
    },
    "papermill": {
     "duration": 0.675931,
     "end_time": "2024-05-09T17:41:47.618191",
     "exception": false,
     "start_time": "2024-05-09T17:41:46.942260",
     "status": "completed"
    },
    "tags": []
   },
   "outputs": [
    {
     "data": {
      "image/png": "[encoded data removed]",
      "text/plain": [
       "<Figure size 640x480 with 2 Axes>"
      ]
     },
     "metadata": {},
     "output_type": "display_data"
    }
   ],
   "source": [
    "sns.heatmap(confusion_matrix(np.argmax(y_test, axis=1), np.argmax(np.round(pred), axis=1)), annot=True);"
   ]
  },
  {
   "cell_type": "code",
   "execution_count": 19,
   "id": "1fe3306d",
   "metadata": {
    "execution": {
     "iopub.execute_input": "2024-05-09T17:41:47.807445Z",
     "iopub.status.busy": "2024-05-09T17:41:47.806813Z",
     "iopub.status.idle": "2024-05-09T17:41:47.824839Z",
     "shell.execute_reply": "2024-05-09T17:41:47.823739Z"
    },
    "papermill": {
     "duration": 0.115348,
     "end_time": "2024-05-09T17:41:47.826904",
     "exception": false,
     "start_time": "2024-05-09T17:41:47.711556",
     "status": "completed"
    },
    "tags": []
   },
   "outputs": [
    {
     "name": "stdout",
     "output_type": "stream",
     "text": [
      "              precision    recall  f1-score   support\n",
      "\n",
      "           0       0.97      0.99      0.98       816\n",
      "           1       0.98      0.99      0.99       909\n",
      "           2       0.99      0.96      0.97       846\n",
      "           3       0.98      0.97      0.98       937\n",
      "           4       0.98      0.97      0.98       839\n",
      "           5       0.98      0.97      0.98       702\n",
      "           6       0.98      0.99      0.98       785\n",
      "           7       0.98      0.98      0.98       893\n",
      "           8       0.97      0.98      0.97       835\n",
      "           9       0.96      0.98      0.97       838\n",
      "\n",
      "    accuracy                           0.98      8400\n",
      "   macro avg       0.98      0.98      0.98      8400\n",
      "weighted avg       0.98      0.98      0.98      8400\n",
      "\n"
     ]
    }
   ],
   "source": [
    "print(classification_report(np.argmax(y_test, axis=1), np.argmax(np.round(pred), axis=1)))"
   ]
  },
  {
   "cell_type": "code",
   "execution_count": 20,
   "id": "37bc9b34",
   "metadata": {
    "execution": {
     "iopub.execute_input": "2024-05-09T17:41:48.020037Z",
     "iopub.status.busy": "2024-05-09T17:41:48.019264Z",
     "iopub.status.idle": "2024-05-09T17:41:50.503363Z",
     "shell.execute_reply": "2024-05-09T17:41:50.502415Z"
    },
    "papermill": {
     "duration": 2.582477,
     "end_time": "2024-05-09T17:41:50.505635",
     "exception": false,
     "start_time": "2024-05-09T17:41:47.923158",
     "status": "completed"
    },
    "tags": []
   },
   "outputs": [
    {
     "name": "stdout",
     "output_type": "stream",
     "text": [
      "\u001b[1m1/1\u001b[0m \u001b[32m━━━━━━━━━━━━━━━━━━━━\u001b[0m\u001b[37m\u001b[0m \u001b[1m0s\u001b[0m 266ms/step\n",
      "\u001b[1m1/1\u001b[0m \u001b[32m━━━━━━━━━━━━━━━━━━━━\u001b[0m\u001b[37m\u001b[0m \u001b[1m0s\u001b[0m 17ms/step\n",
      "\u001b[1m1/1\u001b[0m \u001b[32m━━━━━━━━━━━━━━━━━━━━\u001b[0m\u001b[37m\u001b[0m \u001b[1m0s\u001b[0m 16ms/step\n",
      "\u001b[1m1/1\u001b[0m \u001b[32m━━━━━━━━━━━━━━━━━━━━\u001b[0m\u001b[37m\u001b[0m \u001b[1m0s\u001b[0m 17ms/step\n",
      "\u001b[1m1/1\u001b[0m \u001b[32m━━━━━━━━━━━━━━━━━━━━\u001b[0m\u001b[37m\u001b[0m \u001b[1m0s\u001b[0m 17ms/step\n",
      "\u001b[1m1/1\u001b[0m \u001b[32m━━━━━━━━━━━━━━━━━━━━\u001b[0m\u001b[37m\u001b[0m \u001b[1m0s\u001b[0m 16ms/step\n",
      "\u001b[1m1/1\u001b[0m \u001b[32m━━━━━━━━━━━━━━━━━━━━\u001b[0m\u001b[37m\u001b[0m \u001b[1m0s\u001b[0m 18ms/step\n",
      "\u001b[1m1/1\u001b[0m \u001b[32m━━━━━━━━━━━━━━━━━━━━\u001b[0m\u001b[37m\u001b[0m \u001b[1m0s\u001b[0m 17ms/step\n",
      "\u001b[1m1/1\u001b[0m \u001b[32m━━━━━━━━━━━━━━━━━━━━\u001b[0m\u001b[37m\u001b[0m \u001b[1m0s\u001b[0m 18ms/step\n",
      "\u001b[1m1/1\u001b[0m \u001b[32m━━━━━━━━━━━━━━━━━━━━\u001b[0m\u001b[37m\u001b[0m \u001b[1m0s\u001b[0m 17ms/step\n",
      "\u001b[1m1/1\u001b[0m \u001b[32m━━━━━━━━━━━━━━━━━━━━\u001b[0m\u001b[37m\u001b[0m \u001b[1m0s\u001b[0m 18ms/step\n",
      "\u001b[1m1/1\u001b[0m \u001b[32m━━━━━━━━━━━━━━━━━━━━\u001b[0m\u001b[37m\u001b[0m \u001b[1m0s\u001b[0m 17ms/step\n",
      "\u001b[1m1/1\u001b[0m \u001b[32m━━━━━━━━━━━━━━━━━━━━\u001b[0m\u001b[37m\u001b[0m \u001b[1m0s\u001b[0m 17ms/step\n",
      "\u001b[1m1/1\u001b[0m \u001b[32m━━━━━━━━━━━━━━━━━━━━\u001b[0m\u001b[37m\u001b[0m \u001b[1m0s\u001b[0m 17ms/step\n",
      "\u001b[1m1/1\u001b[0m \u001b[32m━━━━━━━━━━━━━━━━━━━━\u001b[0m\u001b[37m\u001b[0m \u001b[1m0s\u001b[0m 17ms/step\n",
      "\u001b[1m1/1\u001b[0m \u001b[32m━━━━━━━━━━━━━━━━━━━━\u001b[0m\u001b[37m\u001b[0m \u001b[1m0s\u001b[0m 19ms/step\n",
      "\u001b[1m1/1\u001b[0m \u001b[32m━━━━━━━━━━━━━━━━━━━━\u001b[0m\u001b[37m\u001b[0m \u001b[1m0s\u001b[0m 17ms/step\n",
      "\u001b[1m1/1\u001b[0m \u001b[32m━━━━━━━━━━━━━━━━━━━━\u001b[0m\u001b[37m\u001b[0m \u001b[1m0s\u001b[0m 16ms/step\n",
      "\u001b[1m1/1\u001b[0m \u001b[32m━━━━━━━━━━━━━━━━━━━━\u001b[0m\u001b[37m\u001b[0m \u001b[1m0s\u001b[0m 18ms/step\n",
      "\u001b[1m1/1\u001b[0m \u001b[32m━━━━━━━━━━━━━━━━━━━━\u001b[0m\u001b[37m\u001b[0m \u001b[1m0s\u001b[0m 17ms/step\n"
     ]
    },
    {
     "data": {
      "image/png": "[encoded data removed]",
      "text/plain": [
       "<Figure size 1000x1000 with 20 Axes>"
      ]
     },
     "metadata": {},
     "output_type": "display_data"
    }
   ],
   "source": [
    "selected_images = df.sample(20)\n",
    "selected_images = selected_images.reset_index(drop=True)\n",
    "\n",
    "def tahmin(x):\n",
    "    x=np.array([x])\n",
    "    x=x/255.0\n",
    "    pred=model.predict(x)\n",
    "    pred=np.round(np.argmax(pred, axis=1))[0]\n",
    "    return pred\n",
    "\n",
    "fig, axes = plt.subplots(5, 4, figsize=(10, 10))\n",
    "\n",
    "for i, ax in enumerate(axes.flat):\n",
    "    ax.imshow(selected_images.iloc[i, 1:].values.reshape(28, 28), cmap='gray')\n",
    "    ax.axis(\"off\")\n",
    "    t=tahmin(selected_images.iloc[i, 1:])\n",
    "    ax.text(0.5, -0.2, \"Orjinal Adı:\"+str(selected_images.iloc[i, :1].values), transform=ax.transAxes, ha='center')\n",
    "    ax.text(0.5, -0.4, \"Tahmin Edilen:\"+str(t), transform=ax.transAxes, ha='center')\n",
    "\n",
    "plt.tight_layout()\n",
    "plt.show()"
   ]
  },
  {
   "cell_type": "code",
   "execution_count": 21,
   "id": "904dbba4",
   "metadata": {
    "execution": {
     "iopub.execute_input": "2024-05-09T17:41:50.722312Z",
     "iopub.status.busy": "2024-05-09T17:41:50.721458Z",
     "iopub.status.idle": "2024-05-09T17:41:53.041463Z",
     "shell.execute_reply": "2024-05-09T17:41:53.040502Z"
    },
    "papermill": {
     "duration": 2.43681,
     "end_time": "2024-05-09T17:41:53.043511",
     "exception": false,
     "start_time": "2024-05-09T17:41:50.606701",
     "status": "completed"
    },
    "tags": []
   },
   "outputs": [
    {
     "data": {
      "text/html": [
       "<div>\n",
       "<style scoped>\n",
       "    .dataframe tbody tr th:only-of-type {\n",
       "        vertical-align: middle;\n",
       "    }\n",
       "\n",
       "    .dataframe tbody tr th {\n",
       "        vertical-align: top;\n",
       "    }\n",
       "\n",
       "    .dataframe thead th {\n",
       "        text-align: right;\n",
       "    }\n",
       "</style>\n",
       "<table border=\"1\" class=\"dataframe\">\n",
       "  <thead>\n",
       "    <tr style=\"text-align: right;\">\n",
       "      <th></th>\n",
       "      <th>pixel0</th>\n",
       "      <th>pixel1</th>\n",
       "      <th>pixel2</th>\n",
       "      <th>pixel3</th>\n",
       "      <th>pixel4</th>\n",
       "      <th>pixel5</th>\n",
       "      <th>pixel6</th>\n",
       "      <th>pixel7</th>\n",
       "      <th>pixel8</th>\n",
       "      <th>pixel9</th>\n",
       "      <th>...</th>\n",
       "      <th>pixel774</th>\n",
       "      <th>pixel775</th>\n",
       "      <th>pixel776</th>\n",
       "      <th>pixel777</th>\n",
       "      <th>pixel778</th>\n",
       "      <th>pixel779</th>\n",
       "      <th>pixel780</th>\n",
       "      <th>pixel781</th>\n",
       "      <th>pixel782</th>\n",
       "      <th>pixel783</th>\n",
       "    </tr>\n",
       "  </thead>\n",
       "  <tbody>\n",
       "    <tr>\n",
       "      <th>0</th>\n",
       "      <td>0</td>\n",
       "      <td>0</td>\n",
       "      <td>0</td>\n",
       "      <td>0</td>\n",
       "      <td>0</td>\n",
       "      <td>0</td>\n",
       "      <td>0</td>\n",
       "      <td>0</td>\n",
       "      <td>0</td>\n",
       "      <td>0</td>\n",
       "      <td>...</td>\n",
       "      <td>0</td>\n",
       "      <td>0</td>\n",
       "      <td>0</td>\n",
       "      <td>0</td>\n",
       "      <td>0</td>\n",
       "      <td>0</td>\n",
       "      <td>0</td>\n",
       "      <td>0</td>\n",
       "      <td>0</td>\n",
       "      <td>0</td>\n",
       "    </tr>\n",
       "    <tr>\n",
       "      <th>1</th>\n",
       "      <td>0</td>\n",
       "      <td>0</td>\n",
       "      <td>0</td>\n",
       "      <td>0</td>\n",
       "      <td>0</td>\n",
       "      <td>0</td>\n",
       "      <td>0</td>\n",
       "      <td>0</td>\n",
       "      <td>0</td>\n",
       "      <td>0</td>\n",
       "      <td>...</td>\n",
       "      <td>0</td>\n",
       "      <td>0</td>\n",
       "      <td>0</td>\n",
       "      <td>0</td>\n",
       "      <td>0</td>\n",
       "      <td>0</td>\n",
       "      <td>0</td>\n",
       "      <td>0</td>\n",
       "      <td>0</td>\n",
       "      <td>0</td>\n",
       "    </tr>\n",
       "    <tr>\n",
       "      <th>2</th>\n",
       "      <td>0</td>\n",
       "      <td>0</td>\n",
       "      <td>0</td>\n",
       "      <td>0</td>\n",
       "      <td>0</td>\n",
       "      <td>0</td>\n",
       "      <td>0</td>\n",
       "      <td>0</td>\n",
       "      <td>0</td>\n",
       "      <td>0</td>\n",
       "      <td>...</td>\n",
       "      <td>0</td>\n",
       "      <td>0</td>\n",
       "      <td>0</td>\n",
       "      <td>0</td>\n",
       "      <td>0</td>\n",
       "      <td>0</td>\n",
       "      <td>0</td>\n",
       "      <td>0</td>\n",
       "      <td>0</td>\n",
       "      <td>0</td>\n",
       "    </tr>\n",
       "    <tr>\n",
       "      <th>3</th>\n",
       "      <td>0</td>\n",
       "      <td>0</td>\n",
       "      <td>0</td>\n",
       "      <td>0</td>\n",
       "      <td>0</td>\n",
       "      <td>0</td>\n",
       "      <td>0</td>\n",
       "      <td>0</td>\n",
       "      <td>0</td>\n",
       "      <td>0</td>\n",
       "      <td>...</td>\n",
       "      <td>0</td>\n",
       "      <td>0</td>\n",
       "      <td>0</td>\n",
       "      <td>0</td>\n",
       "      <td>0</td>\n",
       "      <td>0</td>\n",
       "      <td>0</td>\n",
       "      <td>0</td>\n",
       "      <td>0</td>\n",
       "      <td>0</td>\n",
       "    </tr>\n",
       "    <tr>\n",
       "      <th>4</th>\n",
       "      <td>0</td>\n",
       "      <td>0</td>\n",
       "      <td>0</td>\n",
       "      <td>0</td>\n",
       "      <td>0</td>\n",
       "      <td>0</td>\n",
       "      <td>0</td>\n",
       "      <td>0</td>\n",
       "      <td>0</td>\n",
       "      <td>0</td>\n",
       "      <td>...</td>\n",
       "      <td>0</td>\n",
       "      <td>0</td>\n",
       "      <td>0</td>\n",
       "      <td>0</td>\n",
       "      <td>0</td>\n",
       "      <td>0</td>\n",
       "      <td>0</td>\n",
       "      <td>0</td>\n",
       "      <td>0</td>\n",
       "      <td>0</td>\n",
       "    </tr>\n",
       "  </tbody>\n",
       "</table>\n",
       "<p>5 rows × 784 columns</p>\n",
       "</div>"
      ],
      "text/plain": [
       "   pixel0  pixel1  pixel2  pixel3  pixel4  pixel5  pixel6  pixel7  pixel8  \\\n",
       "0       0       0       0       0       0       0       0       0       0   \n",
       "1       0       0       0       0       0       0       0       0       0   \n",
       "2       0       0       0       0       0       0       0       0       0   \n",
       "3       0       0       0       0       0       0       0       0       0   \n",
       "4       0       0       0       0       0       0       0       0       0   \n",
       "\n",
       "   pixel9  ...  pixel774  pixel775  pixel776  pixel777  pixel778  pixel779  \\\n",
       "0       0  ...         0         0         0         0         0         0   \n",
       "1       0  ...         0         0         0         0         0         0   \n",
       "2       0  ...         0         0         0         0         0         0   \n",
       "3       0  ...         0         0         0         0         0         0   \n",
       "4       0  ...         0         0         0         0         0         0   \n",
       "\n",
       "   pixel780  pixel781  pixel782  pixel783  \n",
       "0         0         0         0         0  \n",
       "1         0         0         0         0  \n",
       "2         0         0         0         0  \n",
       "3         0         0         0         0  \n",
       "4         0         0         0         0  \n",
       "\n",
       "[5 rows x 784 columns]"
      ]
     },
     "execution_count": 21,
     "metadata": {},
     "output_type": "execute_result"
    }
   ],
   "source": [
    "test=pd.read_csv(\"/kaggle/input/digit-recognizer/test.csv\")\n",
    "test.head()"
   ]
  },
  {
   "cell_type": "code",
   "execution_count": 22,
   "id": "1cada455",
   "metadata": {
    "execution": {
     "iopub.execute_input": "2024-05-09T17:41:53.246599Z",
     "iopub.status.busy": "2024-05-09T17:41:53.246250Z",
     "iopub.status.idle": "2024-05-09T17:42:55.773172Z",
     "shell.execute_reply": "2024-05-09T17:42:55.772375Z"
    },
    "papermill": {
     "duration": 62.627995,
     "end_time": "2024-05-09T17:42:55.775484",
     "exception": false,
     "start_time": "2024-05-09T17:41:53.147489",
     "status": "completed"
    },
    "tags": []
   },
   "outputs": [
    {
     "name": "stdout",
     "output_type": "stream",
     "text": [
      "Epoch 1/25\n",
      "\u001b[1m1313/1313\u001b[0m \u001b[32m━━━━━━━━━━━━━━━━━━━━\u001b[0m\u001b[37m\u001b[0m \u001b[1m6s\u001b[0m 3ms/step - accuracy: 0.9919 - loss: 0.0387\n",
      "Epoch 2/25\n",
      "\u001b[1m1313/1313\u001b[0m \u001b[32m━━━━━━━━━━━━━━━━━━━━\u001b[0m\u001b[37m\u001b[0m \u001b[1m2s\u001b[0m 2ms/step - accuracy: 0.9964 - loss: 0.0121\n",
      "Epoch 3/25\n",
      "\u001b[1m1313/1313\u001b[0m \u001b[32m━━━━━━━━━━━━━━━━━━━━\u001b[0m\u001b[37m\u001b[0m \u001b[1m2s\u001b[0m 2ms/step - accuracy: 0.9981 - loss: 0.0064\n",
      "Epoch 4/25\n",
      "\u001b[1m1313/1313\u001b[0m \u001b[32m━━━━━━━━━━━━━━━━━━━━\u001b[0m\u001b[37m\u001b[0m \u001b[1m2s\u001b[0m 2ms/step - accuracy: 0.9971 - loss: 0.0109\n",
      "Epoch 5/25\n",
      "\u001b[1m1313/1313\u001b[0m \u001b[32m━━━━━━━━━━━━━━━━━━━━\u001b[0m\u001b[37m\u001b[0m \u001b[1m2s\u001b[0m 2ms/step - accuracy: 0.9976 - loss: 0.0071\n",
      "Epoch 6/25\n",
      "\u001b[1m1313/1313\u001b[0m \u001b[32m━━━━━━━━━━━━━━━━━━━━\u001b[0m\u001b[37m\u001b[0m \u001b[1m2s\u001b[0m 2ms/step - accuracy: 0.9973 - loss: 0.0095\n",
      "Epoch 7/25\n",
      "\u001b[1m1313/1313\u001b[0m \u001b[32m━━━━━━━━━━━━━━━━━━━━\u001b[0m\u001b[37m\u001b[0m \u001b[1m2s\u001b[0m 2ms/step - accuracy: 0.9975 - loss: 0.0084\n",
      "Epoch 8/25\n",
      "\u001b[1m1313/1313\u001b[0m \u001b[32m━━━━━━━━━━━━━━━━━━━━\u001b[0m\u001b[37m\u001b[0m \u001b[1m2s\u001b[0m 2ms/step - accuracy: 0.9976 - loss: 0.0080\n",
      "Epoch 9/25\n",
      "\u001b[1m1313/1313\u001b[0m \u001b[32m━━━━━━━━━━━━━━━━━━━━\u001b[0m\u001b[37m\u001b[0m \u001b[1m2s\u001b[0m 2ms/step - accuracy: 0.9976 - loss: 0.0083\n",
      "Epoch 10/25\n",
      "\u001b[1m1313/1313\u001b[0m \u001b[32m━━━━━━━━━━━━━━━━━━━━\u001b[0m\u001b[37m\u001b[0m \u001b[1m2s\u001b[0m 2ms/step - accuracy: 0.9965 - loss: 0.0148\n",
      "Epoch 11/25\n",
      "\u001b[1m1313/1313\u001b[0m \u001b[32m━━━━━━━━━━━━━━━━━━━━\u001b[0m\u001b[37m\u001b[0m \u001b[1m2s\u001b[0m 2ms/step - accuracy: 0.9984 - loss: 0.0047\n",
      "Epoch 12/25\n",
      "\u001b[1m1313/1313\u001b[0m \u001b[32m━━━━━━━━━━━━━━━━━━━━\u001b[0m\u001b[37m\u001b[0m \u001b[1m2s\u001b[0m 2ms/step - accuracy: 0.9986 - loss: 0.0055\n",
      "Epoch 13/25\n",
      "\u001b[1m1313/1313\u001b[0m \u001b[32m━━━━━━━━━━━━━━━━━━━━\u001b[0m\u001b[37m\u001b[0m \u001b[1m2s\u001b[0m 2ms/step - accuracy: 0.9985 - loss: 0.0051\n",
      "Epoch 14/25\n",
      "\u001b[1m1313/1313\u001b[0m \u001b[32m━━━━━━━━━━━━━━━━━━━━\u001b[0m\u001b[37m\u001b[0m \u001b[1m2s\u001b[0m 2ms/step - accuracy: 0.9971 - loss: 0.0112\n",
      "Epoch 15/25\n",
      "\u001b[1m1313/1313\u001b[0m \u001b[32m━━━━━━━━━━━━━━━━━━━━\u001b[0m\u001b[37m\u001b[0m \u001b[1m2s\u001b[0m 2ms/step - accuracy: 0.9986 - loss: 0.0049\n",
      "Epoch 16/25\n",
      "\u001b[1m1313/1313\u001b[0m \u001b[32m━━━━━━━━━━━━━━━━━━━━\u001b[0m\u001b[37m\u001b[0m \u001b[1m2s\u001b[0m 2ms/step - accuracy: 0.9984 - loss: 0.0069\n",
      "Epoch 17/25\n",
      "\u001b[1m1313/1313\u001b[0m \u001b[32m━━━━━━━━━━━━━━━━━━━━\u001b[0m\u001b[37m\u001b[0m \u001b[1m2s\u001b[0m 2ms/step - accuracy: 0.9980 - loss: 0.0077\n",
      "Epoch 18/25\n",
      "\u001b[1m1313/1313\u001b[0m \u001b[32m━━━━━━━━━━━━━━━━━━━━\u001b[0m\u001b[37m\u001b[0m \u001b[1m2s\u001b[0m 2ms/step - accuracy: 0.9980 - loss: 0.0070\n",
      "Epoch 19/25\n",
      "\u001b[1m1313/1313\u001b[0m \u001b[32m━━━━━━━━━━━━━━━━━━━━\u001b[0m\u001b[37m\u001b[0m \u001b[1m3s\u001b[0m 2ms/step - accuracy: 0.9983 - loss: 0.0064\n",
      "Epoch 20/25\n",
      "\u001b[1m1313/1313\u001b[0m \u001b[32m━━━━━━━━━━━━━━━━━━━━\u001b[0m\u001b[37m\u001b[0m \u001b[1m2s\u001b[0m 2ms/step - accuracy: 0.9997 - loss: 0.0018\n",
      "Epoch 21/25\n",
      "\u001b[1m1313/1313\u001b[0m \u001b[32m━━━━━━━━━━━━━━━━━━━━\u001b[0m\u001b[37m\u001b[0m \u001b[1m2s\u001b[0m 2ms/step - accuracy: 0.9984 - loss: 0.0060\n",
      "Epoch 22/25\n",
      "\u001b[1m1313/1313\u001b[0m \u001b[32m━━━━━━━━━━━━━━━━━━━━\u001b[0m\u001b[37m\u001b[0m \u001b[1m2s\u001b[0m 2ms/step - accuracy: 0.9971 - loss: 0.0140\n",
      "Epoch 23/25\n",
      "\u001b[1m1313/1313\u001b[0m \u001b[32m━━━━━━━━━━━━━━━━━━━━\u001b[0m\u001b[37m\u001b[0m \u001b[1m2s\u001b[0m 2ms/step - accuracy: 0.9985 - loss: 0.0065\n",
      "Epoch 24/25\n",
      "\u001b[1m1313/1313\u001b[0m \u001b[32m━━━━━━━━━━━━━━━━━━━━\u001b[0m\u001b[37m\u001b[0m \u001b[1m2s\u001b[0m 2ms/step - accuracy: 0.9996 - loss: 0.0018\n",
      "Epoch 25/25\n",
      "\u001b[1m1313/1313\u001b[0m \u001b[32m━━━━━━━━━━━━━━━━━━━━\u001b[0m\u001b[37m\u001b[0m \u001b[1m3s\u001b[0m 2ms/step - accuracy: 0.9985 - loss: 0.0069\n"
     ]
    }
   ],
   "source": [
    "history = model.fit(x, y, batch_size=32, epochs=25, verbose=1)"
   ]
  },
  {
   "cell_type": "code",
   "execution_count": 23,
   "id": "3240a16c",
   "metadata": {
    "execution": {
     "iopub.execute_input": "2024-05-09T17:42:56.168446Z",
     "iopub.status.busy": "2024-05-09T17:42:56.168074Z",
     "iopub.status.idle": "2024-05-09T17:42:56.207442Z",
     "shell.execute_reply": "2024-05-09T17:42:56.206393Z"
    },
    "papermill": {
     "duration": 0.237433,
     "end_time": "2024-05-09T17:42:56.209825",
     "exception": false,
     "start_time": "2024-05-09T17:42:55.972392",
     "status": "completed"
    },
    "tags": []
   },
   "outputs": [],
   "source": [
    "xt=test\n",
    "xt = xt / 255.0"
   ]
  },
  {
   "cell_type": "code",
   "execution_count": 24,
   "id": "f9ade8c9",
   "metadata": {
    "execution": {
     "iopub.execute_input": "2024-05-09T17:42:56.596574Z",
     "iopub.status.busy": "2024-05-09T17:42:56.596212Z",
     "iopub.status.idle": "2024-05-09T17:42:58.402770Z",
     "shell.execute_reply": "2024-05-09T17:42:58.401770Z"
    },
    "papermill": {
     "duration": 2.002723,
     "end_time": "2024-05-09T17:42:58.405190",
     "exception": false,
     "start_time": "2024-05-09T17:42:56.402467",
     "status": "completed"
    },
    "tags": []
   },
   "outputs": [
    {
     "name": "stdout",
     "output_type": "stream",
     "text": [
      "\u001b[1m875/875\u001b[0m \u001b[32m━━━━━━━━━━━━━━━━━━━━\u001b[0m\u001b[37m\u001b[0m \u001b[1m1s\u001b[0m 1ms/step\n"
     ]
    }
   ],
   "source": [
    "pred=np.argmax(model.predict(xt), axis=1)"
   ]
  },
  {
   "cell_type": "code",
   "execution_count": 25,
   "id": "70e63fbf",
   "metadata": {
    "execution": {
     "iopub.execute_input": "2024-05-09T17:42:58.799900Z",
     "iopub.status.busy": "2024-05-09T17:42:58.799491Z",
     "iopub.status.idle": "2024-05-09T17:42:58.806639Z",
     "shell.execute_reply": "2024-05-09T17:42:58.805663Z"
    },
    "papermill": {
     "duration": 0.206544,
     "end_time": "2024-05-09T17:42:58.808871",
     "exception": false,
     "start_time": "2024-05-09T17:42:58.602327",
     "status": "completed"
    },
    "tags": []
   },
   "outputs": [
    {
     "data": {
      "text/plain": [
       "array([2, 0, 9, ..., 3, 9, 2])"
      ]
     },
     "execution_count": 25,
     "metadata": {},
     "output_type": "execute_result"
    }
   ],
   "source": [
    "pred"
   ]
  },
  {
   "cell_type": "code",
   "execution_count": 26,
   "id": "c138df76",
   "metadata": {
    "execution": {
     "iopub.execute_input": "2024-05-09T17:42:59.203742Z",
     "iopub.status.busy": "2024-05-09T17:42:59.203378Z",
     "iopub.status.idle": "2024-05-09T17:42:59.209178Z",
     "shell.execute_reply": "2024-05-09T17:42:59.208437Z"
    },
    "papermill": {
     "duration": 0.205462,
     "end_time": "2024-05-09T17:42:59.211076",
     "exception": false,
     "start_time": "2024-05-09T17:42:59.005614",
     "status": "completed"
    },
    "tags": []
   },
   "outputs": [],
   "source": [
    "test[\"Label\"]=pred"
   ]
  },
  {
   "cell_type": "code",
   "execution_count": 27,
   "id": "70abe7e4",
   "metadata": {
    "execution": {
     "iopub.execute_input": "2024-05-09T17:42:59.651424Z",
     "iopub.status.busy": "2024-05-09T17:42:59.651084Z",
     "iopub.status.idle": "2024-05-09T17:42:59.656363Z",
     "shell.execute_reply": "2024-05-09T17:42:59.655440Z"
    },
    "papermill": {
     "duration": 0.2038,
     "end_time": "2024-05-09T17:42:59.658177",
     "exception": false,
     "start_time": "2024-05-09T17:42:59.454377",
     "status": "completed"
    },
    "tags": []
   },
   "outputs": [],
   "source": [
    "test['ImageId'] = test.index + 1"
   ]
  },
  {
   "cell_type": "code",
   "execution_count": 28,
   "id": "db8c6ca3",
   "metadata": {
    "execution": {
     "iopub.execute_input": "2024-05-09T17:43:00.054069Z",
     "iopub.status.busy": "2024-05-09T17:43:00.053367Z",
     "iopub.status.idle": "2024-05-09T17:43:00.071075Z",
     "shell.execute_reply": "2024-05-09T17:43:00.070217Z"
    },
    "papermill": {
     "duration": 0.219004,
     "end_time": "2024-05-09T17:43:00.073058",
     "exception": false,
     "start_time": "2024-05-09T17:42:59.854054",
     "status": "completed"
    },
    "tags": []
   },
   "outputs": [
    {
     "data": {
      "text/html": [
       "<div>\n",
       "<style scoped>\n",
       "    .dataframe tbody tr th:only-of-type {\n",
       "        vertical-align: middle;\n",
       "    }\n",
       "\n",
       "    .dataframe tbody tr th {\n",
       "        vertical-align: top;\n",
       "    }\n",
       "\n",
       "    .dataframe thead th {\n",
       "        text-align: right;\n",
       "    }\n",
       "</style>\n",
       "<table border=\"1\" class=\"dataframe\">\n",
       "  <thead>\n",
       "    <tr style=\"text-align: right;\">\n",
       "      <th></th>\n",
       "      <th>pixel0</th>\n",
       "      <th>pixel1</th>\n",
       "      <th>pixel2</th>\n",
       "      <th>pixel3</th>\n",
       "      <th>pixel4</th>\n",
       "      <th>pixel5</th>\n",
       "      <th>pixel6</th>\n",
       "      <th>pixel7</th>\n",
       "      <th>pixel8</th>\n",
       "      <th>pixel9</th>\n",
       "      <th>...</th>\n",
       "      <th>pixel776</th>\n",
       "      <th>pixel777</th>\n",
       "      <th>pixel778</th>\n",
       "      <th>pixel779</th>\n",
       "      <th>pixel780</th>\n",
       "      <th>pixel781</th>\n",
       "      <th>pixel782</th>\n",
       "      <th>pixel783</th>\n",
       "      <th>Label</th>\n",
       "      <th>ImageId</th>\n",
       "    </tr>\n",
       "  </thead>\n",
       "  <tbody>\n",
       "    <tr>\n",
       "      <th>0</th>\n",
       "      <td>0</td>\n",
       "      <td>0</td>\n",
       "      <td>0</td>\n",
       "      <td>0</td>\n",
       "      <td>0</td>\n",
       "      <td>0</td>\n",
       "      <td>0</td>\n",
       "      <td>0</td>\n",
       "      <td>0</td>\n",
       "      <td>0</td>\n",
       "      <td>...</td>\n",
       "      <td>0</td>\n",
       "      <td>0</td>\n",
       "      <td>0</td>\n",
       "      <td>0</td>\n",
       "      <td>0</td>\n",
       "      <td>0</td>\n",
       "      <td>0</td>\n",
       "      <td>0</td>\n",
       "      <td>2</td>\n",
       "      <td>1</td>\n",
       "    </tr>\n",
       "    <tr>\n",
       "      <th>1</th>\n",
       "      <td>0</td>\n",
       "      <td>0</td>\n",
       "      <td>0</td>\n",
       "      <td>0</td>\n",
       "      <td>0</td>\n",
       "      <td>0</td>\n",
       "      <td>0</td>\n",
       "      <td>0</td>\n",
       "      <td>0</td>\n",
       "      <td>0</td>\n",
       "      <td>...</td>\n",
       "      <td>0</td>\n",
       "      <td>0</td>\n",
       "      <td>0</td>\n",
       "      <td>0</td>\n",
       "      <td>0</td>\n",
       "      <td>0</td>\n",
       "      <td>0</td>\n",
       "      <td>0</td>\n",
       "      <td>0</td>\n",
       "      <td>2</td>\n",
       "    </tr>\n",
       "    <tr>\n",
       "      <th>2</th>\n",
       "      <td>0</td>\n",
       "      <td>0</td>\n",
       "      <td>0</td>\n",
       "      <td>0</td>\n",
       "      <td>0</td>\n",
       "      <td>0</td>\n",
       "      <td>0</td>\n",
       "      <td>0</td>\n",
       "      <td>0</td>\n",
       "      <td>0</td>\n",
       "      <td>...</td>\n",
       "      <td>0</td>\n",
       "      <td>0</td>\n",
       "      <td>0</td>\n",
       "      <td>0</td>\n",
       "      <td>0</td>\n",
       "      <td>0</td>\n",
       "      <td>0</td>\n",
       "      <td>0</td>\n",
       "      <td>9</td>\n",
       "      <td>3</td>\n",
       "    </tr>\n",
       "    <tr>\n",
       "      <th>3</th>\n",
       "      <td>0</td>\n",
       "      <td>0</td>\n",
       "      <td>0</td>\n",
       "      <td>0</td>\n",
       "      <td>0</td>\n",
       "      <td>0</td>\n",
       "      <td>0</td>\n",
       "      <td>0</td>\n",
       "      <td>0</td>\n",
       "      <td>0</td>\n",
       "      <td>...</td>\n",
       "      <td>0</td>\n",
       "      <td>0</td>\n",
       "      <td>0</td>\n",
       "      <td>0</td>\n",
       "      <td>0</td>\n",
       "      <td>0</td>\n",
       "      <td>0</td>\n",
       "      <td>0</td>\n",
       "      <td>9</td>\n",
       "      <td>4</td>\n",
       "    </tr>\n",
       "    <tr>\n",
       "      <th>4</th>\n",
       "      <td>0</td>\n",
       "      <td>0</td>\n",
       "      <td>0</td>\n",
       "      <td>0</td>\n",
       "      <td>0</td>\n",
       "      <td>0</td>\n",
       "      <td>0</td>\n",
       "      <td>0</td>\n",
       "      <td>0</td>\n",
       "      <td>0</td>\n",
       "      <td>...</td>\n",
       "      <td>0</td>\n",
       "      <td>0</td>\n",
       "      <td>0</td>\n",
       "      <td>0</td>\n",
       "      <td>0</td>\n",
       "      <td>0</td>\n",
       "      <td>0</td>\n",
       "      <td>0</td>\n",
       "      <td>3</td>\n",
       "      <td>5</td>\n",
       "    </tr>\n",
       "  </tbody>\n",
       "</table>\n",
       "<p>5 rows × 786 columns</p>\n",
       "</div>"
      ],
      "text/plain": [
       "   pixel0  pixel1  pixel2  pixel3  pixel4  pixel5  pixel6  pixel7  pixel8  \\\n",
       "0       0       0       0       0       0       0       0       0       0   \n",
       "1       0       0       0       0       0       0       0       0       0   \n",
       "2       0       0       0       0       0       0       0       0       0   \n",
       "3       0       0       0       0       0       0       0       0       0   \n",
       "4       0       0       0       0       0       0       0       0       0   \n",
       "\n",
       "   pixel9  ...  pixel776  pixel777  pixel778  pixel779  pixel780  pixel781  \\\n",
       "0       0  ...         0         0         0         0         0         0   \n",
       "1       0  ...         0         0         0         0         0         0   \n",
       "2       0  ...         0         0         0         0         0         0   \n",
       "3       0  ...         0         0         0         0         0         0   \n",
       "4       0  ...         0         0         0         0         0         0   \n",
       "\n",
       "   pixel782  pixel783  Label  ImageId  \n",
       "0         0         0      2        1  \n",
       "1         0         0      0        2  \n",
       "2         0         0      9        3  \n",
       "3         0         0      9        4  \n",
       "4         0         0      3        5  \n",
       "\n",
       "[5 rows x 786 columns]"
      ]
     },
     "execution_count": 28,
     "metadata": {},
     "output_type": "execute_result"
    }
   ],
   "source": [
    "test.head()"
   ]
  },
  {
   "cell_type": "code",
   "execution_count": 29,
   "id": "615ea7c1",
   "metadata": {
    "execution": {
     "iopub.execute_input": "2024-05-09T17:43:00.467131Z",
     "iopub.status.busy": "2024-05-09T17:43:00.466701Z",
     "iopub.status.idle": "2024-05-09T17:43:00.507551Z",
     "shell.execute_reply": "2024-05-09T17:43:00.506525Z"
    },
    "papermill": {
     "duration": 0.240246,
     "end_time": "2024-05-09T17:43:00.510765",
     "exception": false,
     "start_time": "2024-05-09T17:43:00.270519",
     "status": "completed"
    },
    "tags": []
   },
   "outputs": [],
   "source": [
    "test[[\"ImageId\", \"Label\"]].to_csv('submission.csv', index=False)"
   ]
  },
  {
   "cell_type": "markdown",
   "id": "02bc9d9c",
   "metadata": {
    "papermill": {
     "duration": 0.196616,
     "end_time": "2024-05-09T17:43:00.922256",
     "exception": false,
     "start_time": "2024-05-09T17:43:00.725640",
     "status": "completed"
    },
    "tags": []
   },
   "source": [
    "Bu yöntemle Kaggle'da 0.8605 skor elde edildi. Şimdi de CNN yöntemimi deneyelim."
   ]
  },
  {
   "cell_type": "markdown",
   "id": "fd41d8ed",
   "metadata": {
    "papermill": {
     "duration": 0.19543,
     "end_time": "2024-05-09T17:43:01.313850",
     "exception": false,
     "start_time": "2024-05-09T17:43:01.118420",
     "status": "completed"
    },
    "tags": []
   },
   "source": [
    "## CNN ile Modelleme"
   ]
  },
  {
   "cell_type": "code",
   "execution_count": 30,
   "id": "3c0668eb",
   "metadata": {
    "execution": {
     "iopub.execute_input": "2024-05-09T17:43:01.708273Z",
     "iopub.status.busy": "2024-05-09T17:43:01.707921Z",
     "iopub.status.idle": "2024-05-09T17:43:02.082684Z",
     "shell.execute_reply": "2024-05-09T17:43:02.081696Z"
    },
    "papermill": {
     "duration": 0.574553,
     "end_time": "2024-05-09T17:43:02.084756",
     "exception": false,
     "start_time": "2024-05-09T17:43:01.510203",
     "status": "completed"
    },
    "tags": []
   },
   "outputs": [
    {
     "data": {
      "text/plain": [
       "(42000, 28, 28, 1)"
      ]
     },
     "execution_count": 30,
     "metadata": {},
     "output_type": "execute_result"
    }
   ],
   "source": [
    "x = np.array(df.drop(\"label\", axis=1))\n",
    "x = np.array(x).reshape(42000, 28, 28, 1)\n",
    "x = x / 255.0\n",
    "x.shape"
   ]
  },
  {
   "cell_type": "code",
   "execution_count": 31,
   "id": "a01f4c84",
   "metadata": {
    "execution": {
     "iopub.execute_input": "2024-05-09T17:43:02.481260Z",
     "iopub.status.busy": "2024-05-09T17:43:02.480892Z",
     "iopub.status.idle": "2024-05-09T17:43:02.671275Z",
     "shell.execute_reply": "2024-05-09T17:43:02.670387Z"
    },
    "papermill": {
     "duration": 0.39124,
     "end_time": "2024-05-09T17:43:02.673213",
     "exception": false,
     "start_time": "2024-05-09T17:43:02.281973",
     "status": "completed"
    },
    "tags": []
   },
   "outputs": [
    {
     "data": {
      "text/plain": [
       "<matplotlib.image.AxesImage at 0x7f54e8267f70>"
      ]
     },
     "execution_count": 31,
     "metadata": {},
     "output_type": "execute_result"
    },
    {
     "data": {
      "image/png": "[encoded data removed]",
      "text/plain": [
       "<Figure size 640x480 with 1 Axes>"
      ]
     },
     "metadata": {},
     "output_type": "display_data"
    }
   ],
   "source": [
    "plt.imshow(x[0], cmap=\"gray\")"
   ]
  },
  {
   "cell_type": "code",
   "execution_count": 32,
   "id": "ae6d79bd",
   "metadata": {
    "execution": {
     "iopub.execute_input": "2024-05-09T17:43:03.066910Z",
     "iopub.status.busy": "2024-05-09T17:43:03.066186Z",
     "iopub.status.idle": "2024-05-09T17:43:03.072714Z",
     "shell.execute_reply": "2024-05-09T17:43:03.071885Z"
    },
    "papermill": {
     "duration": 0.205686,
     "end_time": "2024-05-09T17:43:03.074632",
     "exception": false,
     "start_time": "2024-05-09T17:43:02.868946",
     "status": "completed"
    },
    "tags": []
   },
   "outputs": [
    {
     "data": {
      "text/plain": [
       "((42000, 28, 28, 1), (42000,))"
      ]
     },
     "execution_count": 32,
     "metadata": {},
     "output_type": "execute_result"
    }
   ],
   "source": [
    "y = np.array(df[\"label\"])\n",
    "x.shape, y.shape"
   ]
  },
  {
   "cell_type": "code",
   "execution_count": 33,
   "id": "895ecb57",
   "metadata": {
    "execution": {
     "iopub.execute_input": "2024-05-09T17:43:03.517302Z",
     "iopub.status.busy": "2024-05-09T17:43:03.516359Z",
     "iopub.status.idle": "2024-05-09T17:43:03.521504Z",
     "shell.execute_reply": "2024-05-09T17:43:03.520779Z"
    },
    "papermill": {
     "duration": 0.252411,
     "end_time": "2024-05-09T17:43:03.523416",
     "exception": false,
     "start_time": "2024-05-09T17:43:03.271005",
     "status": "completed"
    },
    "tags": []
   },
   "outputs": [],
   "source": [
    "from sklearn.model_selection import train_test_split\n",
    "from keras.models import Sequential\n",
    "from keras.layers import Conv2D, Dense, Flatten, Input, MaxPooling2D, Dropout,BatchNormalization, Reshape\n",
    "from sklearn.metrics import f1_score, confusion_matrix, classification_report"
   ]
  },
  {
   "cell_type": "code",
   "execution_count": 34,
   "id": "eeabb58d",
   "metadata": {
    "execution": {
     "iopub.execute_input": "2024-05-09T17:43:03.920147Z",
     "iopub.status.busy": "2024-05-09T17:43:03.919277Z",
     "iopub.status.idle": "2024-05-09T17:43:03.923980Z",
     "shell.execute_reply": "2024-05-09T17:43:03.923052Z"
    },
    "papermill": {
     "duration": 0.205243,
     "end_time": "2024-05-09T17:43:03.926207",
     "exception": false,
     "start_time": "2024-05-09T17:43:03.720964",
     "status": "completed"
    },
    "tags": []
   },
   "outputs": [],
   "source": [
    "#x_train,x_test,y_train,y_test=train_test_split(x,y,test_size=.2,random_state=42)"
   ]
  },
  {
   "cell_type": "code",
   "execution_count": 35,
   "id": "2e0fdc3d",
   "metadata": {
    "execution": {
     "iopub.execute_input": "2024-05-09T17:43:04.328281Z",
     "iopub.status.busy": "2024-05-09T17:43:04.327923Z",
     "iopub.status.idle": "2024-05-09T17:43:04.503683Z",
     "shell.execute_reply": "2024-05-09T17:43:04.502588Z"
    },
    "papermill": {
     "duration": 0.378325,
     "end_time": "2024-05-09T17:43:04.506138",
     "exception": false,
     "start_time": "2024-05-09T17:43:04.127813",
     "status": "completed"
    },
    "tags": []
   },
   "outputs": [
    {
     "name": "stderr",
     "output_type": "stream",
     "text": [
      "/opt/conda/lib/python3.10/site-packages/keras/src/layers/convolutional/base_conv.py:99: UserWarning: Do not pass an `input_shape`/`input_dim` argument to a layer. When using Sequential models, prefer using an `Input(shape)` object as the first layer in the model instead.\n",
      "  super().__init__(\n"
     ]
    }
   ],
   "source": [
    "model = Sequential()\n",
    "model.add(Conv2D(32, (3, 3), activation='relu', input_shape=(28, 28, 1)))\n",
    "model.add(MaxPooling2D(pool_size=(2, 2)))\n",
    "model.add(BatchNormalization())\n",
    "\n",
    "model.add(Conv2D(64, (3, 3), activation='relu'))\n",
    "model.add(MaxPooling2D(pool_size=(2, 2)))\n",
    "model.add(BatchNormalization())\n",
    "\n",
    "model.add(Conv2D(128, (3, 3), activation='relu'))\n",
    "model.add(MaxPooling2D(pool_size=(2, 2)))\n",
    "model.add(BatchNormalization())\n",
    "\n",
    "model.add(Flatten())\n",
    "model.add(Dense(256, activation='relu'))\n",
    "model.add(BatchNormalization())\n",
    "model.add(Dropout(rate=0.5))\n",
    "model.add(Dense(10, activation='softmax'))\n",
    "\n",
    "model.compile(optimizer='adam', loss='sparse_categorical_crossentropy', metrics=['accuracy'])"
   ]
  },
  {
   "cell_type": "code",
   "execution_count": 36,
   "id": "3cd645a9",
   "metadata": {
    "execution": {
     "iopub.execute_input": "2024-05-09T17:43:04.949489Z",
     "iopub.status.busy": "2024-05-09T17:43:04.948639Z",
     "iopub.status.idle": "2024-05-09T17:44:40.415134Z",
     "shell.execute_reply": "2024-05-09T17:44:40.414126Z"
    },
    "papermill": {
     "duration": 95.680705,
     "end_time": "2024-05-09T17:44:40.417558",
     "exception": false,
     "start_time": "2024-05-09T17:43:04.736853",
     "status": "completed"
    },
    "tags": []
   },
   "outputs": [
    {
     "name": "stdout",
     "output_type": "stream",
     "text": [
      "Epoch 1/25\n"
     ]
    },
    {
     "name": "stderr",
     "output_type": "stream",
     "text": [
      "2024-05-09 17:43:09.180698: E external/local_xla/xla/service/gpu/buffer_comparator.cc:1137] Difference at 0: 2.35363, expected 1.53764\n",
      "2024-05-09 17:43:09.180759: E external/local_xla/xla/service/gpu/buffer_comparator.cc:1137] Difference at 1: 1.82107, expected 1.00508\n",
      "2024-05-09 17:43:09.180769: E external/local_xla/xla/service/gpu/buffer_comparator.cc:1137] Difference at 2: 1.81936, expected 1.00338\n",
      "2024-05-09 17:43:09.180783: E external/local_xla/xla/service/gpu/buffer_comparator.cc:1137] Difference at 3: 2.23827, expected 1.42229\n",
      "2024-05-09 17:43:09.180791: E external/local_xla/xla/service/gpu/buffer_comparator.cc:1137] Difference at 4: 3.05481, expected 2.23883\n",
      "2024-05-09 17:43:09.180799: E external/local_xla/xla/service/gpu/buffer_comparator.cc:1137] Difference at 5: 2.58554, expected 1.76955\n",
      "2024-05-09 17:43:09.180807: E external/local_xla/xla/service/gpu/buffer_comparator.cc:1137] Difference at 6: 3.00002, expected 2.18403\n",
      "2024-05-09 17:43:09.180814: E external/local_xla/xla/service/gpu/buffer_comparator.cc:1137] Difference at 7: 2.82235, expected 2.00636\n",
      "2024-05-09 17:43:09.180822: E external/local_xla/xla/service/gpu/buffer_comparator.cc:1137] Difference at 8: 3.10502, expected 2.28904\n",
      "2024-05-09 17:43:09.180829: E external/local_xla/xla/service/gpu/buffer_comparator.cc:1137] Difference at 9: 2.73743, expected 1.92145\n",
      "2024-05-09 17:43:09.180844: E external/local_xla/xla/service/gpu/conv_algorithm_picker.cc:705] Results mismatch between different convolution algorithms. This is likely a bug/unexpected loss of precision in cudnn.\n",
      "(f32[32,32,26,26]{3,2,1,0}, u8[0]{0}) custom-call(f32[32,1,28,28]{3,2,1,0}, f32[32,1,3,3]{3,2,1,0}, f32[32]{0}), window={size=3x3}, dim_labels=bf01_oi01->bf01, custom_call_target=\"__cudnn$convBiasActivationForward\", backend_config={\"conv_result_scale\":1,\"activation_mode\":\"kRelu\",\"side_input_scale\":0,\"leakyrelu_alpha\":0} for eng20{k2=2,k4=1,k5=1,k6=0,k7=0} vs eng15{k5=1,k6=0,k7=1,k10=1}\n",
      "2024-05-09 17:43:09.180853: E external/local_xla/xla/service/gpu/conv_algorithm_picker.cc:270] Device: Tesla P100-PCIE-16GB\n",
      "2024-05-09 17:43:09.180860: E external/local_xla/xla/service/gpu/conv_algorithm_picker.cc:271] Platform: Compute Capability 6.0\n",
      "2024-05-09 17:43:09.180867: E external/local_xla/xla/service/gpu/conv_algorithm_picker.cc:272] Driver: 12020 (535.129.3)\n",
      "2024-05-09 17:43:09.180874: E external/local_xla/xla/service/gpu/conv_algorithm_picker.cc:273] Runtime: <undefined>\n",
      "2024-05-09 17:43:09.180885: E external/local_xla/xla/service/gpu/conv_algorithm_picker.cc:280] cudnn version: 8.9.0\n",
      "2024-05-09 17:43:09.284902: E external/local_xla/xla/service/gpu/buffer_comparator.cc:1137] Difference at 0: 2.35363, expected 1.53764\n",
      "2024-05-09 17:43:09.284958: E external/local_xla/xla/service/gpu/buffer_comparator.cc:1137] Difference at 1: 1.82107, expected 1.00508\n",
      "2024-05-09 17:43:09.284968: E external/local_xla/xla/service/gpu/buffer_comparator.cc:1137] Difference at 2: 1.81936, expected 1.00338\n",
      "2024-05-09 17:43:09.284975: E external/local_xla/xla/service/gpu/buffer_comparator.cc:1137] Difference at 3: 2.23827, expected 1.42229\n",
      "2024-05-09 17:43:09.284983: E external/local_xla/xla/service/gpu/buffer_comparator.cc:1137] Difference at 4: 3.05481, expected 2.23883\n",
      "2024-05-09 17:43:09.284991: E external/local_xla/xla/service/gpu/buffer_comparator.cc:1137] Difference at 5: 2.58554, expected 1.76955\n",
      "2024-05-09 17:43:09.284998: E external/local_xla/xla/service/gpu/buffer_comparator.cc:1137] Difference at 6: 3.00002, expected 2.18403\n",
      "2024-05-09 17:43:09.285006: E external/local_xla/xla/service/gpu/buffer_comparator.cc:1137] Difference at 7: 2.82235, expected 2.00636\n",
      "2024-05-09 17:43:09.285014: E external/local_xla/xla/service/gpu/buffer_comparator.cc:1137] Difference at 8: 3.10502, expected 2.28904\n",
      "2024-05-09 17:43:09.285021: E external/local_xla/xla/service/gpu/buffer_comparator.cc:1137] Difference at 9: 2.73743, expected 1.92145\n",
      "2024-05-09 17:43:09.285037: E external/local_xla/xla/service/gpu/conv_algorithm_picker.cc:705] Results mismatch between different convolution algorithms. This is likely a bug/unexpected loss of precision in cudnn.\n",
      "(f32[32,32,26,26]{3,2,1,0}, u8[0]{0}) custom-call(f32[32,1,28,28]{3,2,1,0}, f32[32,1,3,3]{3,2,1,0}, f32[32]{0}), window={size=3x3}, dim_labels=bf01_oi01->bf01, custom_call_target=\"__cudnn$convBiasActivationForward\", backend_config={\"conv_result_scale\":1,\"activation_mode\":\"kRelu\",\"side_input_scale\":0,\"leakyrelu_alpha\":0} for eng20{k2=2,k4=1,k5=1,k6=0,k7=0} vs eng15{k5=1,k6=0,k7=1,k10=1}\n",
      "2024-05-09 17:43:09.285046: E external/local_xla/xla/service/gpu/conv_algorithm_picker.cc:270] Device: Tesla P100-PCIE-16GB\n",
      "2024-05-09 17:43:09.285053: E external/local_xla/xla/service/gpu/conv_algorithm_picker.cc:271] Platform: Compute Capability 6.0\n",
      "2024-05-09 17:43:09.285059: E external/local_xla/xla/service/gpu/conv_algorithm_picker.cc:272] Driver: 12020 (535.129.3)\n",
      "2024-05-09 17:43:09.285066: E external/local_xla/xla/service/gpu/conv_algorithm_picker.cc:273] Runtime: <undefined>\n",
      "2024-05-09 17:43:09.285078: E external/local_xla/xla/service/gpu/conv_algorithm_picker.cc:280] cudnn version: 8.9.0\n"
     ]
    },
    {
     "name": "stdout",
     "output_type": "stream",
     "text": [
      "\u001b[1m1048/1050\u001b[0m \u001b[32m━━━━━━━━━━━━━━━━━━━\u001b[0m\u001b[37m━\u001b[0m \u001b[1m0s\u001b[0m 3ms/step - accuracy: 0.8672 - loss: 0.4569"
     ]
    },
    {
     "name": "stderr",
     "output_type": "stream",
     "text": [
      "2024-05-09 17:43:16.399355: E external/local_xla/xla/service/gpu/buffer_comparator.cc:1137] Difference at 0: 1.34972, expected 1.00161\n",
      "2024-05-09 17:43:16.399419: E external/local_xla/xla/service/gpu/buffer_comparator.cc:1137] Difference at 1: 1.6774, expected 1.32929\n",
      "2024-05-09 17:43:16.399429: E external/local_xla/xla/service/gpu/buffer_comparator.cc:1137] Difference at 2: 1.95868, expected 1.61057\n",
      "2024-05-09 17:43:16.399436: E external/local_xla/xla/service/gpu/buffer_comparator.cc:1137] Difference at 3: 1.69333, expected 1.34521\n",
      "2024-05-09 17:43:16.399444: E external/local_xla/xla/service/gpu/buffer_comparator.cc:1137] Difference at 4: 2.08558, expected 1.73747\n",
      "2024-05-09 17:43:16.399452: E external/local_xla/xla/service/gpu/buffer_comparator.cc:1137] Difference at 6: 1.59326, expected 1.24515\n",
      "2024-05-09 17:43:16.399459: E external/local_xla/xla/service/gpu/buffer_comparator.cc:1137] Difference at 8: 1.72639, expected 1.37827\n",
      "2024-05-09 17:43:16.399467: E external/local_xla/xla/service/gpu/buffer_comparator.cc:1137] Difference at 9: 1.78453, expected 1.43641\n",
      "2024-05-09 17:43:16.399475: E external/local_xla/xla/service/gpu/buffer_comparator.cc:1137] Difference at 10: 1.51148, expected 1.16336\n",
      "2024-05-09 17:43:16.399482: E external/local_xla/xla/service/gpu/buffer_comparator.cc:1137] Difference at 11: 2.12228, expected 1.77416\n",
      "2024-05-09 17:43:16.399497: E external/local_xla/xla/service/gpu/conv_algorithm_picker.cc:705] Results mismatch between different convolution algorithms. This is likely a bug/unexpected loss of precision in cudnn.\n",
      "(f32[16,32,26,26]{3,2,1,0}, u8[0]{0}) custom-call(f32[16,1,28,28]{3,2,1,0}, f32[32,1,3,3]{3,2,1,0}, f32[32]{0}), window={size=3x3}, dim_labels=bf01_oi01->bf01, custom_call_target=\"__cudnn$convBiasActivationForward\", backend_config={\"conv_result_scale\":1,\"activation_mode\":\"kRelu\",\"side_input_scale\":0,\"leakyrelu_alpha\":0} for eng20{k2=2,k4=1,k5=1,k6=0,k7=0} vs eng15{k5=1,k6=0,k7=1,k10=1}\n",
      "2024-05-09 17:43:16.399506: E external/local_xla/xla/service/gpu/conv_algorithm_picker.cc:270] Device: Tesla P100-PCIE-16GB\n",
      "2024-05-09 17:43:16.399513: E external/local_xla/xla/service/gpu/conv_algorithm_picker.cc:271] Platform: Compute Capability 6.0\n",
      "2024-05-09 17:43:16.399519: E external/local_xla/xla/service/gpu/conv_algorithm_picker.cc:272] Driver: 12020 (535.129.3)\n",
      "2024-05-09 17:43:16.399526: E external/local_xla/xla/service/gpu/conv_algorithm_picker.cc:273] Runtime: <undefined>\n",
      "2024-05-09 17:43:16.399537: E external/local_xla/xla/service/gpu/conv_algorithm_picker.cc:280] cudnn version: 8.9.0\n",
      "2024-05-09 17:43:16.428682: E external/local_xla/xla/service/gpu/buffer_comparator.cc:1137] Difference at 0: 1.34972, expected 1.00161\n",
      "2024-05-09 17:43:16.428744: E external/local_xla/xla/service/gpu/buffer_comparator.cc:1137] Difference at 1: 1.6774, expected 1.32929\n",
      "2024-05-09 17:43:16.428753: E external/local_xla/xla/service/gpu/buffer_comparator.cc:1137] Difference at 2: 1.95868, expected 1.61057\n",
      "2024-05-09 17:43:16.428761: E external/local_xla/xla/service/gpu/buffer_comparator.cc:1137] Difference at 3: 1.69333, expected 1.34521\n",
      "2024-05-09 17:43:16.428769: E external/local_xla/xla/service/gpu/buffer_comparator.cc:1137] Difference at 4: 2.08558, expected 1.73747\n",
      "2024-05-09 17:43:16.428777: E external/local_xla/xla/service/gpu/buffer_comparator.cc:1137] Difference at 6: 1.59326, expected 1.24515\n",
      "2024-05-09 17:43:16.428784: E external/local_xla/xla/service/gpu/buffer_comparator.cc:1137] Difference at 8: 1.72639, expected 1.37827\n",
      "2024-05-09 17:43:16.428792: E external/local_xla/xla/service/gpu/buffer_comparator.cc:1137] Difference at 9: 1.78453, expected 1.43641\n",
      "2024-05-09 17:43:16.428799: E external/local_xla/xla/service/gpu/buffer_comparator.cc:1137] Difference at 10: 1.51148, expected 1.16336\n",
      "2024-05-09 17:43:16.428807: E external/local_xla/xla/service/gpu/buffer_comparator.cc:1137] Difference at 11: 2.12228, expected 1.77416\n",
      "2024-05-09 17:43:16.428823: E external/local_xla/xla/service/gpu/conv_algorithm_picker.cc:705] Results mismatch between different convolution algorithms. This is likely a bug/unexpected loss of precision in cudnn.\n",
      "(f32[16,32,26,26]{3,2,1,0}, u8[0]{0}) custom-call(f32[16,1,28,28]{3,2,1,0}, f32[32,1,3,3]{3,2,1,0}, f32[32]{0}), window={size=3x3}, dim_labels=bf01_oi01->bf01, custom_call_target=\"__cudnn$convBiasActivationForward\", backend_config={\"conv_result_scale\":1,\"activation_mode\":\"kRelu\",\"side_input_scale\":0,\"leakyrelu_alpha\":0} for eng20{k2=2,k4=1,k5=1,k6=0,k7=0} vs eng15{k5=1,k6=0,k7=1,k10=1}\n",
      "2024-05-09 17:43:16.428838: E external/local_xla/xla/service/gpu/conv_algorithm_picker.cc:270] Device: Tesla P100-PCIE-16GB\n",
      "2024-05-09 17:43:16.428849: E external/local_xla/xla/service/gpu/conv_algorithm_picker.cc:271] Platform: Compute Capability 6.0\n",
      "2024-05-09 17:43:16.428870: E external/local_xla/xla/service/gpu/conv_algorithm_picker.cc:272] Driver: 12020 (535.129.3)\n",
      "2024-05-09 17:43:16.428882: E external/local_xla/xla/service/gpu/conv_algorithm_picker.cc:273] Runtime: <undefined>\n",
      "2024-05-09 17:43:16.428898: E external/local_xla/xla/service/gpu/conv_algorithm_picker.cc:280] cudnn version: 8.9.0\n"
     ]
    },
    {
     "name": "stdout",
     "output_type": "stream",
     "text": [
      "\u001b[1m1050/1050\u001b[0m \u001b[32m━━━━━━━━━━━━━━━━━━━━\u001b[0m\u001b[37m\u001b[0m \u001b[1m12s\u001b[0m 4ms/step - accuracy: 0.8674 - loss: 0.4563 - val_accuracy: 0.9648 - val_loss: 0.1148\n",
      "Epoch 2/25\n",
      "\u001b[1m1050/1050\u001b[0m \u001b[32m━━━━━━━━━━━━━━━━━━━━\u001b[0m\u001b[37m\u001b[0m \u001b[1m3s\u001b[0m 3ms/step - accuracy: 0.9677 - loss: 0.1066 - val_accuracy: 0.9768 - val_loss: 0.0821\n",
      "Epoch 3/25\n",
      "\u001b[1m1050/1050\u001b[0m \u001b[32m━━━━━━━━━━━━━━━━━━━━\u001b[0m\u001b[37m\u001b[0m \u001b[1m3s\u001b[0m 3ms/step - accuracy: 0.9771 - loss: 0.0730 - val_accuracy: 0.9837 - val_loss: 0.0554\n",
      "Epoch 4/25\n",
      "\u001b[1m1050/1050\u001b[0m \u001b[32m━━━━━━━━━━━━━━━━━━━━\u001b[0m\u001b[37m\u001b[0m \u001b[1m3s\u001b[0m 3ms/step - accuracy: 0.9806 - loss: 0.0609 - val_accuracy: 0.9862 - val_loss: 0.0446\n",
      "Epoch 5/25\n",
      "\u001b[1m1050/1050\u001b[0m \u001b[32m━━━━━━━━━━━━━━━━━━━━\u001b[0m\u001b[37m\u001b[0m \u001b[1m5s\u001b[0m 3ms/step - accuracy: 0.9829 - loss: 0.0538 - val_accuracy: 0.9815 - val_loss: 0.0581\n",
      "Epoch 6/25\n",
      "\u001b[1m1050/1050\u001b[0m \u001b[32m━━━━━━━━━━━━━━━━━━━━\u001b[0m\u001b[37m\u001b[0m \u001b[1m3s\u001b[0m 3ms/step - accuracy: 0.9863 - loss: 0.0415 - val_accuracy: 0.9849 - val_loss: 0.0520\n",
      "Epoch 7/25\n",
      "\u001b[1m1050/1050\u001b[0m \u001b[32m━━━━━━━━━━━━━━━━━━━━\u001b[0m\u001b[37m\u001b[0m \u001b[1m5s\u001b[0m 3ms/step - accuracy: 0.9882 - loss: 0.0374 - val_accuracy: 0.9869 - val_loss: 0.0476\n",
      "Epoch 8/25\n",
      "\u001b[1m1050/1050\u001b[0m \u001b[32m━━━━━━━━━━━━━━━━━━━━\u001b[0m\u001b[37m\u001b[0m \u001b[1m3s\u001b[0m 3ms/step - accuracy: 0.9909 - loss: 0.0273 - val_accuracy: 0.9874 - val_loss: 0.0504\n",
      "Epoch 9/25\n",
      "\u001b[1m1050/1050\u001b[0m \u001b[32m━━━━━━━━━━━━━━━━━━━━\u001b[0m\u001b[37m\u001b[0m \u001b[1m3s\u001b[0m 3ms/step - accuracy: 0.9914 - loss: 0.0285 - val_accuracy: 0.9871 - val_loss: 0.0478\n",
      "Epoch 10/25\n",
      "\u001b[1m1050/1050\u001b[0m \u001b[32m━━━━━━━━━━━━━━━━━━━━\u001b[0m\u001b[37m\u001b[0m \u001b[1m3s\u001b[0m 3ms/step - accuracy: 0.9909 - loss: 0.0278 - val_accuracy: 0.9838 - val_loss: 0.0579\n",
      "Epoch 11/25\n",
      "\u001b[1m1050/1050\u001b[0m \u001b[32m━━━━━━━━━━━━━━━━━━━━\u001b[0m\u001b[37m\u001b[0m \u001b[1m3s\u001b[0m 3ms/step - accuracy: 0.9896 - loss: 0.0295 - val_accuracy: 0.9865 - val_loss: 0.0476\n",
      "Epoch 12/25\n",
      "\u001b[1m1050/1050\u001b[0m \u001b[32m━━━━━━━━━━━━━━━━━━━━\u001b[0m\u001b[37m\u001b[0m \u001b[1m3s\u001b[0m 3ms/step - accuracy: 0.9937 - loss: 0.0178 - val_accuracy: 0.9860 - val_loss: 0.0545\n",
      "Epoch 13/25\n",
      "\u001b[1m1050/1050\u001b[0m \u001b[32m━━━━━━━━━━━━━━━━━━━━\u001b[0m\u001b[37m\u001b[0m \u001b[1m3s\u001b[0m 3ms/step - accuracy: 0.9932 - loss: 0.0209 - val_accuracy: 0.9879 - val_loss: 0.0526\n",
      "Epoch 14/25\n",
      "\u001b[1m1050/1050\u001b[0m \u001b[32m━━━━━━━━━━━━━━━━━━━━\u001b[0m\u001b[37m\u001b[0m \u001b[1m3s\u001b[0m 3ms/step - accuracy: 0.9929 - loss: 0.0212 - val_accuracy: 0.9848 - val_loss: 0.0637\n",
      "Epoch 15/25\n",
      "\u001b[1m1050/1050\u001b[0m \u001b[32m━━━━━━━━━━━━━━━━━━━━\u001b[0m\u001b[37m\u001b[0m \u001b[1m3s\u001b[0m 3ms/step - accuracy: 0.9923 - loss: 0.0207 - val_accuracy: 0.9894 - val_loss: 0.0484\n",
      "Epoch 16/25\n",
      "\u001b[1m1050/1050\u001b[0m \u001b[32m━━━━━━━━━━━━━━━━━━━━\u001b[0m\u001b[37m\u001b[0m \u001b[1m3s\u001b[0m 3ms/step - accuracy: 0.9958 - loss: 0.0122 - val_accuracy: 0.9849 - val_loss: 0.0692\n",
      "Epoch 17/25\n",
      "\u001b[1m1050/1050\u001b[0m \u001b[32m━━━━━━━━━━━━━━━━━━━━\u001b[0m\u001b[37m\u001b[0m \u001b[1m3s\u001b[0m 3ms/step - accuracy: 0.9940 - loss: 0.0178 - val_accuracy: 0.9867 - val_loss: 0.0651\n",
      "Epoch 18/25\n",
      "\u001b[1m1050/1050\u001b[0m \u001b[32m━━━━━━━━━━━━━━━━━━━━\u001b[0m\u001b[37m\u001b[0m \u001b[1m3s\u001b[0m 3ms/step - accuracy: 0.9960 - loss: 0.0135 - val_accuracy: 0.9882 - val_loss: 0.0579\n",
      "Epoch 19/25\n",
      "\u001b[1m1050/1050\u001b[0m \u001b[32m━━━━━━━━━━━━━━━━━━━━\u001b[0m\u001b[37m\u001b[0m \u001b[1m3s\u001b[0m 3ms/step - accuracy: 0.9951 - loss: 0.0132 - val_accuracy: 0.9898 - val_loss: 0.0627\n",
      "Epoch 20/25\n",
      "\u001b[1m1050/1050\u001b[0m \u001b[32m━━━━━━━━━━━━━━━━━━━━\u001b[0m\u001b[37m\u001b[0m \u001b[1m3s\u001b[0m 3ms/step - accuracy: 0.9953 - loss: 0.0141 - val_accuracy: 0.9862 - val_loss: 0.0656\n",
      "Epoch 21/25\n",
      "\u001b[1m1050/1050\u001b[0m \u001b[32m━━━━━━━━━━━━━━━━━━━━\u001b[0m\u001b[37m\u001b[0m \u001b[1m3s\u001b[0m 3ms/step - accuracy: 0.9951 - loss: 0.0147 - val_accuracy: 0.9879 - val_loss: 0.0557\n",
      "Epoch 22/25\n",
      "\u001b[1m1050/1050\u001b[0m \u001b[32m━━━━━━━━━━━━━━━━━━━━\u001b[0m\u001b[37m\u001b[0m \u001b[1m3s\u001b[0m 3ms/step - accuracy: 0.9964 - loss: 0.0114 - val_accuracy: 0.9881 - val_loss: 0.0622\n",
      "Epoch 23/25\n",
      "\u001b[1m1050/1050\u001b[0m \u001b[32m━━━━━━━━━━━━━━━━━━━━\u001b[0m\u001b[37m\u001b[0m \u001b[1m3s\u001b[0m 3ms/step - accuracy: 0.9960 - loss: 0.0108 - val_accuracy: 0.9865 - val_loss: 0.0639\n",
      "Epoch 24/25\n",
      "\u001b[1m1050/1050\u001b[0m \u001b[32m━━━━━━━━━━━━━━━━━━━━\u001b[0m\u001b[37m\u001b[0m \u001b[1m3s\u001b[0m 3ms/step - accuracy: 0.9976 - loss: 0.0084 - val_accuracy: 0.9874 - val_loss: 0.0671\n",
      "Epoch 25/25\n",
      "\u001b[1m1050/1050\u001b[0m \u001b[32m━━━━━━━━━━━━━━━━━━━━\u001b[0m\u001b[37m\u001b[0m \u001b[1m3s\u001b[0m 3ms/step - accuracy: 0.9962 - loss: 0.0126 - val_accuracy: 0.9888 - val_loss: 0.0580\n"
     ]
    }
   ],
   "source": [
    "history=model.fit(x, y, batch_size=32, epochs=25, validation_split=0.2)\n",
    "#history=model.fit(x_train,y_train,validation_data=(x_test,y_test),batch_size=32, epochs=25, verbose=1)"
   ]
  },
  {
   "cell_type": "code",
   "execution_count": 37,
   "id": "d8acb7db",
   "metadata": {
    "execution": {
     "iopub.execute_input": "2024-05-09T17:44:41.138908Z",
     "iopub.status.busy": "2024-05-09T17:44:41.138058Z",
     "iopub.status.idle": "2024-05-09T17:44:43.878246Z",
     "shell.execute_reply": "2024-05-09T17:44:43.877205Z"
    },
    "papermill": {
     "duration": 3.11946,
     "end_time": "2024-05-09T17:44:43.880333",
     "exception": false,
     "start_time": "2024-05-09T17:44:40.760873",
     "status": "completed"
    },
    "tags": []
   },
   "outputs": [
    {
     "name": "stdout",
     "output_type": "stream",
     "text": [
      "\u001b[1m1/1\u001b[0m \u001b[32m━━━━━━━━━━━━━━━━━━━━\u001b[0m\u001b[37m\u001b[0m \u001b[1m1s\u001b[0m 620ms/step\n",
      "\u001b[1m1/1\u001b[0m \u001b[32m━━━━━━━━━━━━━━━━━━━━\u001b[0m\u001b[37m\u001b[0m \u001b[1m0s\u001b[0m 17ms/step\n",
      "\u001b[1m1/1\u001b[0m \u001b[32m━━━━━━━━━━━━━━━━━━━━\u001b[0m\u001b[37m\u001b[0m \u001b[1m0s\u001b[0m 17ms/step\n",
      "\u001b[1m1/1\u001b[0m \u001b[32m━━━━━━━━━━━━━━━━━━━━\u001b[0m\u001b[37m\u001b[0m \u001b[1m0s\u001b[0m 18ms/step\n",
      "\u001b[1m1/1\u001b[0m \u001b[32m━━━━━━━━━━━━━━━━━━━━\u001b[0m\u001b[37m\u001b[0m \u001b[1m0s\u001b[0m 17ms/step\n",
      "\u001b[1m1/1\u001b[0m \u001b[32m━━━━━━━━━━━━━━━━━━━━\u001b[0m\u001b[37m\u001b[0m \u001b[1m0s\u001b[0m 19ms/step\n",
      "\u001b[1m1/1\u001b[0m \u001b[32m━━━━━━━━━━━━━━━━━━━━\u001b[0m\u001b[37m\u001b[0m \u001b[1m0s\u001b[0m 17ms/step\n",
      "\u001b[1m1/1\u001b[0m \u001b[32m━━━━━━━━━━━━━━━━━━━━\u001b[0m\u001b[37m\u001b[0m \u001b[1m0s\u001b[0m 18ms/step\n",
      "\u001b[1m1/1\u001b[0m \u001b[32m━━━━━━━━━━━━━━━━━━━━\u001b[0m\u001b[37m\u001b[0m \u001b[1m0s\u001b[0m 18ms/step\n",
      "\u001b[1m1/1\u001b[0m \u001b[32m━━━━━━━━━━━━━━━━━━━━\u001b[0m\u001b[37m\u001b[0m \u001b[1m0s\u001b[0m 17ms/step\n",
      "\u001b[1m1/1\u001b[0m \u001b[32m━━━━━━━━━━━━━━━━━━━━\u001b[0m\u001b[37m\u001b[0m \u001b[1m0s\u001b[0m 17ms/step\n",
      "\u001b[1m1/1\u001b[0m \u001b[32m━━━━━━━━━━━━━━━━━━━━\u001b[0m\u001b[37m\u001b[0m \u001b[1m0s\u001b[0m 18ms/step\n",
      "\u001b[1m1/1\u001b[0m \u001b[32m━━━━━━━━━━━━━━━━━━━━\u001b[0m\u001b[37m\u001b[0m \u001b[1m0s\u001b[0m 17ms/step\n",
      "\u001b[1m1/1\u001b[0m \u001b[32m━━━━━━━━━━━━━━━━━━━━\u001b[0m\u001b[37m\u001b[0m \u001b[1m0s\u001b[0m 17ms/step\n",
      "\u001b[1m1/1\u001b[0m \u001b[32m━━━━━━━━━━━━━━━━━━━━\u001b[0m\u001b[37m\u001b[0m \u001b[1m0s\u001b[0m 17ms/step\n",
      "\u001b[1m1/1\u001b[0m \u001b[32m━━━━━━━━━━━━━━━━━━━━\u001b[0m\u001b[37m\u001b[0m \u001b[1m0s\u001b[0m 17ms/step\n",
      "\u001b[1m1/1\u001b[0m \u001b[32m━━━━━━━━━━━━━━━━━━━━\u001b[0m\u001b[37m\u001b[0m \u001b[1m0s\u001b[0m 18ms/step\n",
      "\u001b[1m1/1\u001b[0m \u001b[32m━━━━━━━━━━━━━━━━━━━━\u001b[0m\u001b[37m\u001b[0m \u001b[1m0s\u001b[0m 17ms/step\n",
      "\u001b[1m1/1\u001b[0m \u001b[32m━━━━━━━━━━━━━━━━━━━━\u001b[0m\u001b[37m\u001b[0m \u001b[1m0s\u001b[0m 17ms/step\n",
      "\u001b[1m1/1\u001b[0m \u001b[32m━━━━━━━━━━━━━━━━━━━━\u001b[0m\u001b[37m\u001b[0m \u001b[1m0s\u001b[0m 17ms/step\n"
     ]
    },
    {
     "data": {
      "image/png": "[encoded data removed]",
      "text/plain": [
       "<Figure size 1000x1000 with 20 Axes>"
      ]
     },
     "metadata": {},
     "output_type": "display_data"
    }
   ],
   "source": [
    "selected_images = df.sample(20)\n",
    "selected_images = selected_images.reset_index(drop=True)\n",
    "\n",
    "def tahmin(x):\n",
    "    x = np.array(x).reshape(1, 28, 28, 1)\n",
    "    x=x/255.0\n",
    "    pred=model.predict(x)\n",
    "    pred=np.round(np.argmax(pred, axis=1))[0]\n",
    "    return pred\n",
    "\n",
    "fig, axes = plt.subplots(5, 4, figsize=(10, 10))\n",
    "\n",
    "for i, ax in enumerate(axes.flat):\n",
    "    ax.imshow(selected_images.iloc[i, 1:].values.reshape(28, 28), cmap='gray')\n",
    "    ax.axis(\"off\")\n",
    "    t=tahmin(selected_images.iloc[i, 1:])\n",
    "    ax.text(0.5, -0.2, \"Orjinal Adı:\"+str(selected_images.iloc[i, :1].values), transform=ax.transAxes, ha='center')\n",
    "    ax.text(0.5, -0.4, \"Tahmin Edilen:\"+str(t), transform=ax.transAxes, ha='center')\n",
    "\n",
    "plt.tight_layout()\n",
    "plt.show()"
   ]
  },
  {
   "cell_type": "code",
   "execution_count": 38,
   "id": "625f59b4",
   "metadata": {
    "execution": {
     "iopub.execute_input": "2024-05-09T17:44:44.529170Z",
     "iopub.status.busy": "2024-05-09T17:44:44.528262Z",
     "iopub.status.idle": "2024-05-09T17:44:44.819069Z",
     "shell.execute_reply": "2024-05-09T17:44:44.818088Z"
    },
    "papermill": {
     "duration": 0.614852,
     "end_time": "2024-05-09T17:44:44.821222",
     "exception": false,
     "start_time": "2024-05-09T17:44:44.206370",
     "status": "completed"
    },
    "tags": []
   },
   "outputs": [
    {
     "data": {
      "text/plain": [
       "<matplotlib.legend.Legend at 0x7f54fefb3190>"
      ]
     },
     "execution_count": 38,
     "metadata": {},
     "output_type": "execute_result"
    },
    {
     "data": {
      "image/png": "[encoded data removed]",
      "text/plain": [
       "<Figure size 640x480 with 1 Axes>"
      ]
     },
     "metadata": {},
     "output_type": "display_data"
    }
   ],
   "source": [
    "plt.plot(history.history[\"accuracy\"], label=\"Accuracy\")\n",
    "plt.plot(history.history[\"val_accuracy\"], label=\"Val Accuracy\")\n",
    "plt.legend()"
   ]
  },
  {
   "cell_type": "code",
   "execution_count": 39,
   "id": "d3730367",
   "metadata": {
    "execution": {
     "iopub.execute_input": "2024-05-09T17:44:45.465062Z",
     "iopub.status.busy": "2024-05-09T17:44:45.464231Z",
     "iopub.status.idle": "2024-05-09T17:44:47.209360Z",
     "shell.execute_reply": "2024-05-09T17:44:47.208399Z"
    },
    "papermill": {
     "duration": 2.068947,
     "end_time": "2024-05-09T17:44:47.211303",
     "exception": false,
     "start_time": "2024-05-09T17:44:45.142356",
     "status": "completed"
    },
    "tags": []
   },
   "outputs": [
    {
     "data": {
      "text/plain": [
       "(28000, 784)"
      ]
     },
     "execution_count": 39,
     "metadata": {},
     "output_type": "execute_result"
    }
   ],
   "source": [
    "test=pd.read_csv(\"/kaggle/input/digit-recognizer/test.csv\")\n",
    "xt = test\n",
    "xt.shape"
   ]
  },
  {
   "cell_type": "code",
   "execution_count": 40,
   "id": "b23aa1c5",
   "metadata": {
    "execution": {
     "iopub.execute_input": "2024-05-09T17:44:47.906467Z",
     "iopub.status.busy": "2024-05-09T17:44:47.906087Z",
     "iopub.status.idle": "2024-05-09T17:44:48.047600Z",
     "shell.execute_reply": "2024-05-09T17:44:48.046701Z"
    },
    "papermill": {
     "duration": 0.517382,
     "end_time": "2024-05-09T17:44:48.049674",
     "exception": false,
     "start_time": "2024-05-09T17:44:47.532292",
     "status": "completed"
    },
    "tags": []
   },
   "outputs": [
    {
     "data": {
      "text/plain": [
       "(28000, 28, 28, 1)"
      ]
     },
     "execution_count": 40,
     "metadata": {},
     "output_type": "execute_result"
    }
   ],
   "source": [
    "xt = np.array(xt).reshape(28000, 28, 28, 1)\n",
    "xt = xt / 255.0\n",
    "xt.shape"
   ]
  },
  {
   "cell_type": "code",
   "execution_count": 41,
   "id": "635512bb",
   "metadata": {
    "execution": {
     "iopub.execute_input": "2024-05-09T17:44:48.694039Z",
     "iopub.status.busy": "2024-05-09T17:44:48.693645Z",
     "iopub.status.idle": "2024-05-09T17:44:50.925068Z",
     "shell.execute_reply": "2024-05-09T17:44:50.924179Z"
    },
    "papermill": {
     "duration": 2.558354,
     "end_time": "2024-05-09T17:44:50.927330",
     "exception": false,
     "start_time": "2024-05-09T17:44:48.368976",
     "status": "completed"
    },
    "tags": []
   },
   "outputs": [
    {
     "name": "stdout",
     "output_type": "stream",
     "text": [
      "\u001b[1m875/875\u001b[0m \u001b[32m━━━━━━━━━━━━━━━━━━━━\u001b[0m\u001b[37m\u001b[0m \u001b[1m2s\u001b[0m 1ms/step\n"
     ]
    }
   ],
   "source": [
    "pred=np.argmax(model.predict(xt), axis=1)"
   ]
  },
  {
   "cell_type": "code",
   "execution_count": 42,
   "id": "7dfab474",
   "metadata": {
    "execution": {
     "iopub.execute_input": "2024-05-09T17:44:51.573732Z",
     "iopub.status.busy": "2024-05-09T17:44:51.572964Z",
     "iopub.status.idle": "2024-05-09T17:44:51.579376Z",
     "shell.execute_reply": "2024-05-09T17:44:51.578474Z"
    },
    "papermill": {
     "duration": 0.333833,
     "end_time": "2024-05-09T17:44:51.581401",
     "exception": false,
     "start_time": "2024-05-09T17:44:51.247568",
     "status": "completed"
    },
    "tags": []
   },
   "outputs": [
    {
     "data": {
      "text/plain": [
       "array([2, 0, 9, ..., 3, 9, 2])"
      ]
     },
     "execution_count": 42,
     "metadata": {},
     "output_type": "execute_result"
    }
   ],
   "source": [
    "pred"
   ]
  },
  {
   "cell_type": "code",
   "execution_count": 43,
   "id": "604ebd21",
   "metadata": {
    "execution": {
     "iopub.execute_input": "2024-05-09T17:44:52.240673Z",
     "iopub.status.busy": "2024-05-09T17:44:52.240299Z",
     "iopub.status.idle": "2024-05-09T17:44:52.259184Z",
     "shell.execute_reply": "2024-05-09T17:44:52.258228Z"
    },
    "papermill": {
     "duration": 0.347684,
     "end_time": "2024-05-09T17:44:52.261047",
     "exception": false,
     "start_time": "2024-05-09T17:44:51.913363",
     "status": "completed"
    },
    "tags": []
   },
   "outputs": [
    {
     "data": {
      "text/html": [
       "<div>\n",
       "<style scoped>\n",
       "    .dataframe tbody tr th:only-of-type {\n",
       "        vertical-align: middle;\n",
       "    }\n",
       "\n",
       "    .dataframe tbody tr th {\n",
       "        vertical-align: top;\n",
       "    }\n",
       "\n",
       "    .dataframe thead th {\n",
       "        text-align: right;\n",
       "    }\n",
       "</style>\n",
       "<table border=\"1\" class=\"dataframe\">\n",
       "  <thead>\n",
       "    <tr style=\"text-align: right;\">\n",
       "      <th></th>\n",
       "      <th>pixel0</th>\n",
       "      <th>pixel1</th>\n",
       "      <th>pixel2</th>\n",
       "      <th>pixel3</th>\n",
       "      <th>pixel4</th>\n",
       "      <th>pixel5</th>\n",
       "      <th>pixel6</th>\n",
       "      <th>pixel7</th>\n",
       "      <th>pixel8</th>\n",
       "      <th>pixel9</th>\n",
       "      <th>...</th>\n",
       "      <th>pixel775</th>\n",
       "      <th>pixel776</th>\n",
       "      <th>pixel777</th>\n",
       "      <th>pixel778</th>\n",
       "      <th>pixel779</th>\n",
       "      <th>pixel780</th>\n",
       "      <th>pixel781</th>\n",
       "      <th>pixel782</th>\n",
       "      <th>pixel783</th>\n",
       "      <th>Label</th>\n",
       "    </tr>\n",
       "  </thead>\n",
       "  <tbody>\n",
       "    <tr>\n",
       "      <th>0</th>\n",
       "      <td>0</td>\n",
       "      <td>0</td>\n",
       "      <td>0</td>\n",
       "      <td>0</td>\n",
       "      <td>0</td>\n",
       "      <td>0</td>\n",
       "      <td>0</td>\n",
       "      <td>0</td>\n",
       "      <td>0</td>\n",
       "      <td>0</td>\n",
       "      <td>...</td>\n",
       "      <td>0</td>\n",
       "      <td>0</td>\n",
       "      <td>0</td>\n",
       "      <td>0</td>\n",
       "      <td>0</td>\n",
       "      <td>0</td>\n",
       "      <td>0</td>\n",
       "      <td>0</td>\n",
       "      <td>0</td>\n",
       "      <td>2</td>\n",
       "    </tr>\n",
       "    <tr>\n",
       "      <th>1</th>\n",
       "      <td>0</td>\n",
       "      <td>0</td>\n",
       "      <td>0</td>\n",
       "      <td>0</td>\n",
       "      <td>0</td>\n",
       "      <td>0</td>\n",
       "      <td>0</td>\n",
       "      <td>0</td>\n",
       "      <td>0</td>\n",
       "      <td>0</td>\n",
       "      <td>...</td>\n",
       "      <td>0</td>\n",
       "      <td>0</td>\n",
       "      <td>0</td>\n",
       "      <td>0</td>\n",
       "      <td>0</td>\n",
       "      <td>0</td>\n",
       "      <td>0</td>\n",
       "      <td>0</td>\n",
       "      <td>0</td>\n",
       "      <td>0</td>\n",
       "    </tr>\n",
       "    <tr>\n",
       "      <th>2</th>\n",
       "      <td>0</td>\n",
       "      <td>0</td>\n",
       "      <td>0</td>\n",
       "      <td>0</td>\n",
       "      <td>0</td>\n",
       "      <td>0</td>\n",
       "      <td>0</td>\n",
       "      <td>0</td>\n",
       "      <td>0</td>\n",
       "      <td>0</td>\n",
       "      <td>...</td>\n",
       "      <td>0</td>\n",
       "      <td>0</td>\n",
       "      <td>0</td>\n",
       "      <td>0</td>\n",
       "      <td>0</td>\n",
       "      <td>0</td>\n",
       "      <td>0</td>\n",
       "      <td>0</td>\n",
       "      <td>0</td>\n",
       "      <td>9</td>\n",
       "    </tr>\n",
       "    <tr>\n",
       "      <th>3</th>\n",
       "      <td>0</td>\n",
       "      <td>0</td>\n",
       "      <td>0</td>\n",
       "      <td>0</td>\n",
       "      <td>0</td>\n",
       "      <td>0</td>\n",
       "      <td>0</td>\n",
       "      <td>0</td>\n",
       "      <td>0</td>\n",
       "      <td>0</td>\n",
       "      <td>...</td>\n",
       "      <td>0</td>\n",
       "      <td>0</td>\n",
       "      <td>0</td>\n",
       "      <td>0</td>\n",
       "      <td>0</td>\n",
       "      <td>0</td>\n",
       "      <td>0</td>\n",
       "      <td>0</td>\n",
       "      <td>0</td>\n",
       "      <td>2</td>\n",
       "    </tr>\n",
       "    <tr>\n",
       "      <th>4</th>\n",
       "      <td>0</td>\n",
       "      <td>0</td>\n",
       "      <td>0</td>\n",
       "      <td>0</td>\n",
       "      <td>0</td>\n",
       "      <td>0</td>\n",
       "      <td>0</td>\n",
       "      <td>0</td>\n",
       "      <td>0</td>\n",
       "      <td>0</td>\n",
       "      <td>...</td>\n",
       "      <td>0</td>\n",
       "      <td>0</td>\n",
       "      <td>0</td>\n",
       "      <td>0</td>\n",
       "      <td>0</td>\n",
       "      <td>0</td>\n",
       "      <td>0</td>\n",
       "      <td>0</td>\n",
       "      <td>0</td>\n",
       "      <td>3</td>\n",
       "    </tr>\n",
       "  </tbody>\n",
       "</table>\n",
       "<p>5 rows × 785 columns</p>\n",
       "</div>"
      ],
      "text/plain": [
       "   pixel0  pixel1  pixel2  pixel3  pixel4  pixel5  pixel6  pixel7  pixel8  \\\n",
       "0       0       0       0       0       0       0       0       0       0   \n",
       "1       0       0       0       0       0       0       0       0       0   \n",
       "2       0       0       0       0       0       0       0       0       0   \n",
       "3       0       0       0       0       0       0       0       0       0   \n",
       "4       0       0       0       0       0       0       0       0       0   \n",
       "\n",
       "   pixel9  ...  pixel775  pixel776  pixel777  pixel778  pixel779  pixel780  \\\n",
       "0       0  ...         0         0         0         0         0         0   \n",
       "1       0  ...         0         0         0         0         0         0   \n",
       "2       0  ...         0         0         0         0         0         0   \n",
       "3       0  ...         0         0         0         0         0         0   \n",
       "4       0  ...         0         0         0         0         0         0   \n",
       "\n",
       "   pixel781  pixel782  pixel783  Label  \n",
       "0         0         0         0      2  \n",
       "1         0         0         0      0  \n",
       "2         0         0         0      9  \n",
       "3         0         0         0      2  \n",
       "4         0         0         0      3  \n",
       "\n",
       "[5 rows x 785 columns]"
      ]
     },
     "execution_count": 43,
     "metadata": {},
     "output_type": "execute_result"
    }
   ],
   "source": [
    "test[\"Label\"]=pred\n",
    "test.head()"
   ]
  },
  {
   "cell_type": "code",
   "execution_count": 44,
   "id": "d6a964bf",
   "metadata": {
    "execution": {
     "iopub.execute_input": "2024-05-09T17:44:52.967535Z",
     "iopub.status.busy": "2024-05-09T17:44:52.966836Z",
     "iopub.status.idle": "2024-05-09T17:44:52.971767Z",
     "shell.execute_reply": "2024-05-09T17:44:52.971002Z"
    },
    "papermill": {
     "duration": 0.332661,
     "end_time": "2024-05-09T17:44:52.973611",
     "exception": false,
     "start_time": "2024-05-09T17:44:52.640950",
     "status": "completed"
    },
    "tags": []
   },
   "outputs": [],
   "source": [
    "test['ImageId'] = test.index + 1"
   ]
  },
  {
   "cell_type": "code",
   "execution_count": 45,
   "id": "44fe81a8",
   "metadata": {
    "execution": {
     "iopub.execute_input": "2024-05-09T17:44:53.622860Z",
     "iopub.status.busy": "2024-05-09T17:44:53.622478Z",
     "iopub.status.idle": "2024-05-09T17:44:53.661374Z",
     "shell.execute_reply": "2024-05-09T17:44:53.660607Z"
    },
    "papermill": {
     "duration": 0.365283,
     "end_time": "2024-05-09T17:44:53.663392",
     "exception": false,
     "start_time": "2024-05-09T17:44:53.298109",
     "status": "completed"
    },
    "tags": []
   },
   "outputs": [],
   "source": [
    "test[[\"ImageId\", \"Label\"]].to_csv('submission.csv', index=False)"
   ]
  },
  {
   "cell_type": "markdown",
   "id": "98630c6f",
   "metadata": {
    "papermill": {
     "duration": 0.321685,
     "end_time": "2024-05-09T17:44:54.306290",
     "exception": false,
     "start_time": "2024-05-09T17:44:53.984605",
     "status": "completed"
    },
    "tags": []
   },
   "source": [
    "### Bu son yaptığımız modelleme ile Kaggle yarışmasında 0.98682 skor elde edildi.\n",
    "\n",
    "Modeli kaydedip streamlit uygulamasına dönüştürelim."
   ]
  },
  {
   "cell_type": "code",
   "execution_count": 46,
   "id": "3921962f",
   "metadata": {
    "execution": {
     "iopub.execute_input": "2024-05-09T17:44:54.998745Z",
     "iopub.status.busy": "2024-05-09T17:44:54.998370Z",
     "iopub.status.idle": "2024-05-09T17:44:55.075634Z",
     "shell.execute_reply": "2024-05-09T17:44:55.074878Z"
    },
    "papermill": {
     "duration": 0.450683,
     "end_time": "2024-05-09T17:44:55.077987",
     "exception": false,
     "start_time": "2024-05-09T17:44:54.627304",
     "status": "completed"
    },
    "tags": []
   },
   "outputs": [],
   "source": [
    "model.save(\"digit_model.keras\")"
   ]
  },
  {
   "cell_type": "code",
   "execution_count": null,
   "id": "0548955c",
   "metadata": {
    "papermill": {
     "duration": 0.331043,
     "end_time": "2024-05-09T17:44:55.730435",
     "exception": false,
     "start_time": "2024-05-09T17:44:55.399392",
     "status": "completed"
    },
    "tags": []
   },
   "outputs": [],
   "source": []
  }
 ],
 "metadata": {
  "kaggle": {
   "accelerator": "gpu",
   "dataSources": [
    {
     "databundleVersionId": 861823,
     "sourceId": 3004,
     "sourceType": "competition"
    }
   ],
   "dockerImageVersionId": 30699,
   "isGpuEnabled": true,
   "isInternetEnabled": true,
   "language": "python",
   "sourceType": "notebook"
  },
  "kernelspec": {
   "display_name": "Python 3",
   "language": "python",
   "name": "python3"
  },
  "language_info": {
   "codemirror_mode": {
    "name": "ipython",
    "version": 3
   },
   "file_extension": ".py",
   "mimetype": "text/x-python",
   "name": "python",
   "nbconvert_exporter": "python",
   "pygments_lexer": "ipython3",
   "version": "3.10.13"
  },
  "papermill": {
   "default_parameters": {},
   "duration": 277.558863,
   "end_time": "2024-05-09T17:44:59.149075",
   "environment_variables": {},
   "exception": null,
   "input_path": "__notebook__.ipynb",
   "output_path": "__notebook__.ipynb",
   "parameters": {},
   "start_time": "2024-05-09T17:40:21.590212",
   "version": "2.5.0"
  }
 },
 "nbformat": 4,
 "nbformat_minor": 5
}
